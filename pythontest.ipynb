{
 "cells": [
  {
   "cell_type": "markdown",
   "metadata": {},
   "source": [
    "# 2024-12-19"
   ]
  },
  {
   "cell_type": "markdown",
   "metadata": {},
   "source": [
    "### 파이썬 기본 문법"
   ]
  },
  {
   "cell_type": "code",
   "execution_count": 4,
   "metadata": {},
   "outputs": [
    {
     "name": "stdout",
     "output_type": "stream",
     "text": [
      "1\n",
      "2\n",
      "3\n"
     ]
    }
   ],
   "source": [
    "print(1)\n",
    "print(2)\n",
    "print(3)"
   ]
  },
  {
   "cell_type": "code",
   "execution_count": 5,
   "metadata": {},
   "outputs": [
    {
     "name": "stdout",
     "output_type": "stream",
     "text": [
      "1\n",
      "2\n",
      "3\n"
     ]
    }
   ],
   "source": [
    "print('1')\n",
    "print('2')\n",
    "print('3')"
   ]
  },
  {
   "cell_type": "code",
   "execution_count": 6,
   "metadata": {},
   "outputs": [
    {
     "name": "stdout",
     "output_type": "stream",
     "text": [
      "3\n"
     ]
    }
   ],
   "source": [
    "print(1+2)"
   ]
  },
  {
   "cell_type": "code",
   "execution_count": 15,
   "metadata": {},
   "outputs": [
    {
     "name": "stdout",
     "output_type": "stream",
     "text": [
      "1+2\n"
     ]
    }
   ],
   "source": [
    "print('1+2')"
   ]
  },
  {
   "cell_type": "code",
   "execution_count": 3,
   "metadata": {},
   "outputs": [
    {
     "name": "stdout",
     "output_type": "stream",
     "text": [
      "hello world\n"
     ]
    }
   ],
   "source": [
    "print('hello world')"
   ]
  },
  {
   "cell_type": "code",
   "execution_count": 13,
   "metadata": {},
   "outputs": [
    {
     "ename": "SyntaxError",
     "evalue": "invalid syntax (3710955999.py, line 1)",
     "output_type": "error",
     "traceback": [
      "\u001b[1;36m  Cell \u001b[1;32mIn[13], line 1\u001b[1;36m\u001b[0m\n\u001b[1;33m    HELLO Python\u001b[0m\n\u001b[1;37m          ^\u001b[0m\n\u001b[1;31mSyntaxError\u001b[0m\u001b[1;31m:\u001b[0m invalid syntax\n"
     ]
    }
   ],
   "source": [
    "HELLO Python\n"
   ]
  },
  {
   "cell_type": "code",
   "execution_count": 14,
   "metadata": {},
   "outputs": [
    {
     "ename": "NameError",
     "evalue": "name 'hello' is not defined",
     "output_type": "error",
     "traceback": [
      "\u001b[1;31m---------------------------------------------------------------------------\u001b[0m",
      "\u001b[1;31mNameError\u001b[0m                                 Traceback (most recent call last)",
      "Cell \u001b[1;32mIn[14], line 1\u001b[0m\n\u001b[1;32m----> 1\u001b[0m \u001b[43mhello\u001b[49m, Python\n",
      "\u001b[1;31mNameError\u001b[0m: name 'hello' is not defined"
     ]
    }
   ],
   "source": [
    "hello, Python"
   ]
  },
  {
   "cell_type": "code",
   "execution_count": 11,
   "metadata": {},
   "outputs": [
    {
     "name": "stdout",
     "output_type": "stream",
     "text": [
      "hello\n",
      "python\n",
      "홍길동 나이 = 20 세\n"
     ]
    }
   ],
   "source": [
    "# 프린트문 연습\n",
    "print('hello')\n",
    "print('python')\n",
    "print('홍길동','나이 =',20,'세')"
   ]
  },
  {
   "cell_type": "code",
   "execution_count": 135,
   "metadata": {},
   "outputs": [
    {
     "name": "stdout",
     "output_type": "stream",
     "text": [
      "hi to the yongseok\n",
      "hiyongseok\n"
     ]
    }
   ],
   "source": [
    "print('hi','yongseok',sep=' to the ') #sep='여기기에는 띄어쓰기 포함 모든게 다 포함됨' 기본값= ' ' (띄어쓰기기)\n",
    "print('hi'+'yongseok')"
   ]
  },
  {
   "cell_type": "code",
   "execution_count": 138,
   "metadata": {},
   "outputs": [
    {
     "name": "stdout",
     "output_type": "stream",
     "text": [
      "hi\n",
      "yongseok\n"
     ]
    }
   ],
   "source": [
    "print('hi',end=' * ') #end='여기기에는 띄어쓰기 포함 모든게 다 포함됨' 기본값: end = '\\n' (줄바꾸기기)\n",
    "print('yongseok')"
   ]
  },
  {
   "cell_type": "markdown",
   "metadata": {},
   "source": [
    "# 변수"
   ]
  },
  {
   "cell_type": "code",
   "execution_count": 37,
   "metadata": {},
   "outputs": [
    {
     "name": "stdout",
     "output_type": "stream",
     "text": [
      "yongseok 나이 = 30 세\n"
     ]
    }
   ],
   "source": [
    "name = 'yongseok'\n",
    "ag_if_num = 30\n",
    "\n",
    "print(name,'나이 =',ag_if_num,'세')\n"
   ]
  },
  {
   "cell_type": "code",
   "execution_count": 39,
   "metadata": {},
   "outputs": [
    {
     "name": "stdout",
     "output_type": "stream",
     "text": [
      "<class 'bool'>\n"
     ]
    }
   ],
   "source": [
    "print(type(bool('true')))"
   ]
  },
  {
   "cell_type": "code",
   "execution_count": 41,
   "metadata": {},
   "outputs": [
    {
     "name": "stdout",
     "output_type": "stream",
     "text": [
      "7 3 10 2.5 2 1 25\n"
     ]
    }
   ],
   "source": [
    "a = 5+2\n",
    "b = 5-2\n",
    "c = 5*2\n",
    "d = 5/2\n",
    "e = 5//2\n",
    "f = 5%2\n",
    "g = 5**2\n",
    "print(a,b,c,d,e,f,g)"
   ]
  },
  {
   "cell_type": "code",
   "execution_count": 49,
   "metadata": {},
   "outputs": [
    {
     "name": "stdout",
     "output_type": "stream",
     "text": [
      "합: 7\n",
      "빼기: -1\n",
      "곱: 12\n",
      "나눗셈: 0.75\n",
      "나머지: 3\n"
     ]
    }
   ],
   "source": [
    "a = 3\n",
    "b = 4\n",
    "\n",
    "print('합:', a+b)\n",
    "print('빼기:', a-b)\n",
    "print('곱:', a*b)\n",
    "print('나눗셈:', a/b)\n",
    "print('나머지:', a%b)\n"
   ]
  },
  {
   "cell_type": "code",
   "execution_count": 55,
   "metadata": {},
   "outputs": [
    {
     "name": "stdout",
     "output_type": "stream",
     "text": [
      "3 4 6 2\n"
     ]
    }
   ],
   "source": [
    "n = 3462\n",
    "\n",
    "# d1 = print(n//1000)\n",
    "# d2 = print(n//500)\n",
    "# d3 = print(n//400)\n",
    "# d4 = print(n//300)\n",
    "\n",
    "d1000 = n//1000\n",
    "d100 = (n//100)%10\n",
    "d10 = (n//10)%10\n",
    "d1 = n%10\n",
    "print(d1000, d100, d10, d1)"
   ]
  },
  {
   "cell_type": "code",
   "execution_count": 57,
   "metadata": {},
   "outputs": [
    {
     "name": "stdout",
     "output_type": "stream",
     "text": [
      "1123455678997600\n"
     ]
    }
   ],
   "source": [
    "pay = 1123456789\n",
    "\n",
    "d1 = print(pay//100*100)"
   ]
  },
  {
   "cell_type": "code",
   "execution_count": null,
   "metadata": {},
   "outputs": [],
   "source": [
    "# 업그레이드미션 2  \n",
    "\n",
    "# Todo: 변수 a에 저장된 값의 b자리 값을 계산하여 변수 c에 저장하는 코드를 설계하라  \n",
    "\n",
    "#예를 들어 a에 1234가 저장되어 있고 b가 1일 경우 첫 번째 자리값인 4가 c에 저장된다.  \n",
    "\n",
    "#a가 1234일때 b가 4일 경우는 4번째 자리값인 1이 c에 저장되어야 한다.  \n",
    "\n",
    " \n",
    "\n",
    "a = 1234 \n",
    "\n",
    "b = 1 \n",
    "\n"
   ]
  },
  {
   "cell_type": "code",
   "execution_count": 62,
   "metadata": {},
   "outputs": [
    {
     "name": "stdout",
     "output_type": "stream",
     "text": [
      "True\n",
      "False\n",
      "False\n"
     ]
    }
   ],
   "source": [
    "print((3<5)and(4>1)) # 둘다 T 가나와야 T 임 / 하나라도 F 면 F 임\n",
    "print((3>5)or(4<1)) # 둘다 F 가 나와야지 F값이 출력됨 / 하나라도 T 면 T 임\n",
    "print(not(5>2))"
   ]
  },
  {
   "cell_type": "code",
   "execution_count": 80,
   "metadata": {},
   "outputs": [
    {
     "name": "stdout",
     "output_type": "stream",
     "text": [
      "'낮말'은 새가듣고 '밤말'은 쥐가 듣는다.\n"
     ]
    }
   ],
   "source": [
    "print(\"'낮말'은 새가듣고 '밤말'은 쥐가 듣는다.\")"
   ]
  },
  {
   "cell_type": "code",
   "execution_count": 102,
   "metadata": {},
   "outputs": [
    {
     "name": "stdout",
     "output_type": "stream",
     "text": [
      "too\n",
      "lift\n",
      "<class 'str'>\n"
     ]
    }
   ],
   "source": [
    "samplestring = \"life is too short, you need python\"\n",
    "print(samplestring[8],samplestring[9],samplestring[10],sep='')\n",
    "print(samplestring[:3],samplestring[8],sep='')\n",
    "print(type(samplestring[6]))\n",
    "\n"
   ]
  },
  {
   "cell_type": "markdown",
   "metadata": {},
   "source": [
    "# 사용자 입력"
   ]
  },
  {
   "cell_type": "code",
   "execution_count": 106,
   "metadata": {},
   "outputs": [
    {
     "name": "stdout",
     "output_type": "stream",
     "text": [
      "사용자의 이름을 입력하세요:  yongsuk204\n"
     ]
    }
   ],
   "source": [
    "name = input('이름을 입력하세요: ')\n",
    "print('사용자의 이름을 입력하세요: ', name)"
   ]
  },
  {
   "cell_type": "code",
   "execution_count": 116,
   "metadata": {},
   "outputs": [
    {
     "name": "stdout",
     "output_type": "stream",
     "text": [
      "1 + 5 = 6\n"
     ]
    }
   ],
   "source": [
    "a = input('숫자를 넣어주세요:')\n",
    "b = input('다음 더할 숫자를 넣어주세요:')\n",
    "\n",
    "print(int(a),'+',int(b),'=',int(a) + int(b))"
   ]
  },
  {
   "cell_type": "code",
   "execution_count": 112,
   "metadata": {},
   "outputs": [
    {
     "name": "stdout",
     "output_type": "stream",
     "text": [
      "50.0\n"
     ]
    }
   ],
   "source": [
    "# 삼각형 넓이 구하기\n",
    "\n",
    "a = input('한 변의 길이를 입력하세요')\n",
    "b = input('다른 한 변의 길이를 입력하세요')\n",
    "\n",
    "print((int(a)*int(b))/2)"
   ]
  },
  {
   "cell_type": "code",
   "execution_count": 128,
   "metadata": {},
   "outputs": [
    {
     "name": "stdout",
     "output_type": "stream",
     "text": [
      "김밥 주문 갯수 3\n",
      "떡볶이 주문 갯수 4\n",
      "라면면 주문 갯수 5\n",
      "35500\n"
     ]
    }
   ],
   "source": [
    "# 음식값계산하기\n",
    "\n",
    "# # 김   밥  : 3,000원 \n",
    "\n",
    "# 떡볶이 : 3,500원 \n",
    "\n",
    "# 라    면 : 2,500원 \n",
    "\n",
    "a1 = 3000\n",
    "b1 = 3500\n",
    "c1 = 2500\n",
    "\n",
    "a = input('김밥 주문갯수를 입력해주세요')\n",
    "b = input('떡볶이 주문갯수를 입력하세요')\n",
    "c = input('라면 주문갯수를 입력하세요')\n",
    "\n",
    "a2 = print('김밥 주문 갯수', int(a))\n",
    "b2 = print('떡볶이 주문 갯수', int(b))\n",
    "c2 = print('라면면 주문 갯수', int(c))\n",
    "\n",
    "print((int(a)*a1)+(int(b)*b1)+(int(c)*c1))\n"
   ]
  },
  {
   "cell_type": "code",
   "execution_count": 134,
   "metadata": {},
   "outputs": [
    {
     "name": "stdout",
     "output_type": "stream",
     "text": [
      "3 * 6 = 18\n"
     ]
    }
   ],
   "source": [
    "a = int(input('첫번째 값 입력'))\n",
    "b = int(input('두번째 값 입력'))\n",
    "\n",
    "print(f'{a} * {b} = {a*b}')\n",
    "\n"
   ]
  },
  {
   "cell_type": "code",
   "execution_count": 139,
   "metadata": {},
   "outputs": [
    {
     "name": "stdout",
     "output_type": "stream",
     "text": [
      "1000.120 * 2000.5 = 2,000,697.05484\n"
     ]
    }
   ],
   "source": [
    "a = float(input('첫번째 값 입력'))\n",
    "b = float(input('두번째 값 입력'))\n",
    "\n",
    "print(f'{a:.3f} * {b:.1f} = {a*b:,.5f}')"
   ]
  },
  {
   "cell_type": "code",
   "execution_count": 157,
   "metadata": {},
   "outputs": [
    {
     "name": "stdout",
     "output_type": "stream",
     "text": [
      "반지름: 150.698 cm\n",
      "원의 둘레:  946.4 cm\n",
      "원의 넓이:  71,309.0 ㎠\n"
     ]
    }
   ],
   "source": [
    "r = float(input('반지름 입력(cm):'))\n",
    "print('반지름:', r , 'cm')\n",
    "print('원의 둘레: ', f'{r*2*3.14:,.1f}', 'cm')\n",
    "print('원의 넓이: ', f'{r**2*3.14:,.1f}', '㎠')"
   ]
  },
  {
   "cell_type": "code",
   "execution_count": 158,
   "metadata": {},
   "outputs": [
    {
     "name": "stdout",
     "output_type": "stream",
     "text": [
      "False\n"
     ]
    }
   ],
   "source": [
    "a = 'True'\n",
    "\n",
    "print(a == True)"
   ]
  },
  {
   "cell_type": "markdown",
   "metadata": {},
   "source": [
    "# 조건문 만들기"
   ]
  },
  {
   "cell_type": "code",
   "execution_count": 175,
   "metadata": {},
   "outputs": [
    {
     "name": "stdout",
     "output_type": "stream",
     "text": [
      "False\n",
      "입력한 숫자는 6\n",
      "짝수입니다\n"
     ]
    }
   ],
   "source": [
    "# if 조건:\n",
    "#     명령\n",
    "\n",
    "\n",
    "# money = False\n",
    "# if money:\n",
    "#     print('플렉스하기')\n",
    "#     print('노래방도가고')\n",
    "# else:\n",
    "#     print('집에 걸어가기')\n",
    "\n",
    "\n",
    "\n",
    "num = int(input('숫자를 입력하세요: '))\n",
    "a1 = num%2\n",
    "print(bool(a1))\n",
    "print('입력한 숫자는', num)\n",
    "if a1:\n",
    "    print('홀수입니다')     # 나머지가 1이면 True 판정으로 홀수\n",
    "else:\n",
    "    print('짝수입니다')     # 나머지가 0이면 False 판정으로 짝수\n"
   ]
  },
  {
   "cell_type": "code",
   "execution_count": 194,
   "metadata": {},
   "outputs": [
    {
     "name": "stdout",
     "output_type": "stream",
     "text": [
      "B등급입니다\n"
     ]
    }
   ],
   "source": [
    "num = int(input('점수를 입력하세요: '))\n",
    "if num>=90:\n",
    "    print('A등급입니다.')\n",
    "elif 90>num>=80:\n",
    "    print('B등급입니다')\n",
    "elif 80>num>=70:\n",
    "    print('C등급입니다')\n",
    "elif 70>num>=60:\n",
    "    print('D등급입니다')\n",
    "elif 60>num:\n",
    "    print('F등급입니다')\n"
   ]
  },
  {
   "cell_type": "code",
   "execution_count": 210,
   "metadata": {},
   "outputs": [
    {
     "name": "stdout",
     "output_type": "stream",
     "text": [
      "출생연도:  1995\n",
      "출생 끝자리:  9 5\n",
      "목요일입니다.\n"
     ]
    }
   ],
   "source": [
    "year_num = str(input('출생연도를 입력해주세요'))\n",
    "a1 = year_num[-2:]\n",
    "print('출생연도: ', year_num)\n",
    "b1 = str(a1)[0]\n",
    "c1 = str(a1)[1]\n",
    "print('출생 끝자리: ', b1, c1)\n",
    "e1 = int(b1)\n",
    "f1 = int(c1)\n",
    "if e1 in(4, 9) or f1 in(4, 9):\n",
    "    print('목요일입니다.')\n",
    "elif e1 in(5, 0) or f1 in(5, 0):\n",
    "    print('금요일입니다.')\n",
    "\n",
    "\n",
    "    # 출생연도 끝 2자리로 해버렸음... 다시해야함함\n"
   ]
  },
  {
   "cell_type": "code",
   "execution_count": 229,
   "metadata": {},
   "outputs": [
    {
     "name": "stdout",
     "output_type": "stream",
     "text": [
      "나이:  34\n",
      "출생연도:  1990\n",
      "출생 끝자리:  0\n",
      "금요일입니다.\n"
     ]
    }
   ],
   "source": [
    "year_num = str(input('출생연도를 입력해주세요'))\n",
    "a1 = year_num[-1:]\n",
    "c1 = int(year_num)\n",
    "d1 = 2024-c1\n",
    "print('나이: ', d1)\n",
    "print('출생연도: ', year_num)\n",
    "print('출생 끝자리: ', a1)\n",
    "b1 = int(a1)\n",
    "if d1>65:\n",
    "    print('언제든지 구매가능합니다')\n",
    "elif b1 in (4, 9):\n",
    "    print('목요일입니다.')\n",
    "elif b1 in (5, 0):\n",
    "    print('금요일입니다.')\n",
    "elif b1 in (1, 6):\n",
    "    print('월요일입니다.')\n",
    "elif b1 in (2, 7):\n",
    "    print('화요일입니다.')\n",
    "else :\n",
    "    print('수요일입니다.')"
   ]
  }
 ],
 "metadata": {
  "kernelspec": {
   "display_name": "Python 3",
   "language": "python",
   "name": "python3"
  },
  "language_info": {
   "codemirror_mode": {
    "name": "ipython",
    "version": 3
   },
   "file_extension": ".py",
   "mimetype": "text/x-python",
   "name": "python",
   "nbconvert_exporter": "python",
   "pygments_lexer": "ipython3",
   "version": "3.13.1"
  }
 },
 "nbformat": 4,
 "nbformat_minor": 2
}
