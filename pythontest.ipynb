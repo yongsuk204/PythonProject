{
 "cells": [
  {
   "cell_type": "markdown",
   "metadata": {},
   "source": [
    "# 2024-12-19"
   ]
  },
  {
   "cell_type": "markdown",
   "metadata": {},
   "source": [
    "### 파이썬 기본 문법"
   ]
  },
  {
   "cell_type": "code",
   "execution_count": null,
   "metadata": {},
   "outputs": [],
   "source": [
    "print(1)\n",
    "print(2)\n",
    "print(3)"
   ]
  },
  {
   "cell_type": "code",
   "execution_count": null,
   "metadata": {},
   "outputs": [],
   "source": [
    "print('1')\n",
    "print('2')\n",
    "print('3')"
   ]
  },
  {
   "cell_type": "code",
   "execution_count": null,
   "metadata": {},
   "outputs": [],
   "source": [
    "print(1+2)"
   ]
  },
  {
   "cell_type": "code",
   "execution_count": null,
   "metadata": {},
   "outputs": [],
   "source": [
    "print('1+2')"
   ]
  },
  {
   "cell_type": "code",
   "execution_count": null,
   "metadata": {},
   "outputs": [],
   "source": [
    "print('hello world')"
   ]
  },
  {
   "cell_type": "code",
   "execution_count": null,
   "metadata": {},
   "outputs": [],
   "source": [
    "HELLO Python\n"
   ]
  },
  {
   "cell_type": "code",
   "execution_count": null,
   "metadata": {},
   "outputs": [],
   "source": [
    "hello, Python"
   ]
  },
  {
   "cell_type": "code",
   "execution_count": null,
   "metadata": {},
   "outputs": [],
   "source": [
    "# 프린트문 연습\n",
    "print('hello')\n",
    "print('python')\n",
    "print('홍길동','나이 =',20,'세')"
   ]
  },
  {
   "cell_type": "code",
   "execution_count": null,
   "metadata": {},
   "outputs": [],
   "source": [
    "print('hi','yongseok',sep=' to the ') #sep='여기기에는 띄어쓰기 포함 모든게 다 포함됨' 기본값= ' ' (띄어쓰기기)\n",
    "print('hi'+'yongseok')"
   ]
  },
  {
   "cell_type": "code",
   "execution_count": null,
   "metadata": {},
   "outputs": [],
   "source": [
    "print('hi',end=' * ') #end='여기기에는 띄어쓰기 포함 모든게 다 포함됨' 기본값: end = '\\n' (줄바꾸기기)\n",
    "print('yongseok')"
   ]
  },
  {
   "cell_type": "markdown",
   "metadata": {},
   "source": [
    "# 변수"
   ]
  },
  {
   "cell_type": "code",
   "execution_count": null,
   "metadata": {},
   "outputs": [],
   "source": [
    "name = 'yongseok'\n",
    "ag_if_num = 30\n",
    "\n",
    "print(name,'나이 =',ag_if_num,'세')\n"
   ]
  },
  {
   "cell_type": "code",
   "execution_count": null,
   "metadata": {},
   "outputs": [],
   "source": [
    "print(type(bool('true')))"
   ]
  },
  {
   "cell_type": "code",
   "execution_count": null,
   "metadata": {},
   "outputs": [],
   "source": [
    "a = 5+2\n",
    "b = 5-2\n",
    "c = 5*2\n",
    "d = 5/2\n",
    "e = 5//2\n",
    "f = 5%2\n",
    "g = 5**2\n",
    "print(a,b,c,d,e,f,g)"
   ]
  },
  {
   "cell_type": "code",
   "execution_count": null,
   "metadata": {},
   "outputs": [],
   "source": [
    "a = 3\n",
    "b = 4\n",
    "\n",
    "print('합:', a+b)\n",
    "print('빼기:', a-b)\n",
    "print('곱:', a*b)\n",
    "print('나눗셈:', a/b)\n",
    "print('나머지:', a%b)\n"
   ]
  },
  {
   "cell_type": "code",
   "execution_count": null,
   "metadata": {},
   "outputs": [],
   "source": [
    "n = 3462\n",
    "\n",
    "# d1 = print(n//1000)\n",
    "# d2 = print(n//500)\n",
    "# d3 = print(n//400)\n",
    "# d4 = print(n//300)\n",
    "\n",
    "d1000 = n//1000\n",
    "d100 = (n//100)%10\n",
    "d10 = (n//10)%10\n",
    "d1 = n%10\n",
    "print(d1000, d100, d10, d1)"
   ]
  },
  {
   "cell_type": "code",
   "execution_count": null,
   "metadata": {},
   "outputs": [],
   "source": [
    "pay = 1123456789\n",
    "\n",
    "d1 = print(pay//100*100)"
   ]
  },
  {
   "cell_type": "code",
   "execution_count": null,
   "metadata": {},
   "outputs": [],
   "source": [
    "# 업그레이드미션 2  \n",
    "\n",
    "# Todo: 변수 a에 저장된 값의 b자리 값을 계산하여 변수 c에 저장하는 코드를 설계하라  \n",
    "\n",
    "#예를 들어 a에 1234가 저장되어 있고 b가 1일 경우 첫 번째 자리값인 4가 c에 저장된다.  \n",
    "\n",
    "#a가 1234일때 b가 4일 경우는 4번째 자리값인 1이 c에 저장되어야 한다.  \n",
    "\n",
    " \n",
    "\n",
    "\n",
    "a = input('숫자를 입력하세요')\n",
    "c = a[int(input(b))-1]\n",
    "print(c)\n"
   ]
  },
  {
   "cell_type": "code",
   "execution_count": null,
   "metadata": {},
   "outputs": [],
   "source": [
    "print((3<5)and(4>1)) # 둘다 T 가나와야 T 임 / 하나라도 F 면 F 임\n",
    "print((3>5)or(4<1)) # 둘다 F 가 나와야지 F값이 출력됨 / 하나라도 T 면 T 임\n",
    "print(not(5>2))"
   ]
  },
  {
   "cell_type": "code",
   "execution_count": null,
   "metadata": {},
   "outputs": [],
   "source": [
    "print(\"'낮말'은 새가듣고 '밤말'은 쥐가 듣는다.\")"
   ]
  },
  {
   "cell_type": "code",
   "execution_count": null,
   "metadata": {},
   "outputs": [],
   "source": [
    "samplestring = \"life is too short, you need python\"\n",
    "print(samplestring[8],samplestring[9],samplestring[10],sep='')\n",
    "print(samplestring[:3],samplestring[8],sep='')\n",
    "print(type(samplestring[6]))\n",
    "\n"
   ]
  },
  {
   "cell_type": "markdown",
   "metadata": {},
   "source": [
    "# 사용자 입력"
   ]
  },
  {
   "cell_type": "code",
   "execution_count": null,
   "metadata": {},
   "outputs": [],
   "source": [
    "name = input('이름을 입력하세요: ')\n",
    "print('사용자의 이름을 입력하세요: ', name)"
   ]
  },
  {
   "cell_type": "code",
   "execution_count": null,
   "metadata": {},
   "outputs": [],
   "source": [
    "a = input('숫자를 넣어주세요:')\n",
    "b = input('다음 더할 숫자를 넣어주세요:')\n",
    "\n",
    "print(int(a),'+',int(b),'=',int(a) + int(b))"
   ]
  },
  {
   "cell_type": "code",
   "execution_count": null,
   "metadata": {},
   "outputs": [],
   "source": [
    "# 삼각형 넓이 구하기\n",
    "\n",
    "a = input('한 변의 길이를 입력하세요')\n",
    "b = input('다른 한 변의 길이를 입력하세요')\n",
    "\n",
    "print((int(a)*int(b))/2)"
   ]
  },
  {
   "cell_type": "code",
   "execution_count": null,
   "metadata": {},
   "outputs": [],
   "source": [
    "# 음식값계산하기\n",
    "\n",
    "# # 김   밥  : 3,000원 \n",
    "\n",
    "# 떡볶이 : 3,500원 \n",
    "\n",
    "# 라    면 : 2,500원 \n",
    "\n",
    "a1 = 3000\n",
    "b1 = 3500\n",
    "c1 = 2500\n",
    "\n",
    "a = input('김밥 주문갯수를 입력해주세요')\n",
    "b = input('떡볶이 주문갯수를 입력하세요')\n",
    "c = input('라면 주문갯수를 입력하세요')\n",
    "\n",
    "a2 = print('김밥 주문 갯수', int(a))\n",
    "b2 = print('떡볶이 주문 갯수', int(b))\n",
    "c2 = print('라면면 주문 갯수', int(c))\n",
    "\n",
    "print('합계: ', (int(a)*a1)+(int(b)*b1)+(int(c)*c1), '원 입니다.', sep='')\n"
   ]
  },
  {
   "cell_type": "code",
   "execution_count": null,
   "metadata": {},
   "outputs": [],
   "source": [
    "a = int(input('첫번째 값 입력'))\n",
    "b = int(input('두번째 값 입력'))        # int는 정수값\n",
    "\n",
    "print(f'{a} * {b} = {a*b}')\n",
    "\n"
   ]
  },
  {
   "cell_type": "code",
   "execution_count": null,
   "metadata": {},
   "outputs": [],
   "source": [
    "a = float(input('첫번째 값 입력'))      # float는 실수값\n",
    "b = float(input('두번째 값 입력'))\n",
    "\n",
    "print(f'{a:.3f} * {b:.1f} = {a*b:,.5f}')"
   ]
  },
  {
   "cell_type": "code",
   "execution_count": null,
   "metadata": {},
   "outputs": [],
   "source": [
    "r = float(input('반지름 입력(cm):'))\n",
    "print('반지름:', r , 'cm')\n",
    "print('원의 둘레: ', f'{r*2*3.14:,.1f}', 'cm')\n",
    "print('원의 넓이: ', f'{r**2*3.14:,.1f}', '㎠')"
   ]
  },
  {
   "cell_type": "code",
   "execution_count": null,
   "metadata": {},
   "outputs": [],
   "source": [
    "a = 'True'\n",
    "\n",
    "print(a == True)\n",
    "print(type(a))\n",
    "print(type(True))\n",
    "# 문자열 타입과 불 타입은 != 이기때문에 print(a == True)는 False 이다."
   ]
  },
  {
   "cell_type": "markdown",
   "metadata": {},
   "source": [
    "# 조건문 만들기"
   ]
  },
  {
   "cell_type": "code",
   "execution_count": null,
   "metadata": {},
   "outputs": [],
   "source": [
    "# if 조건:\n",
    "#     명령\n",
    "\n",
    "num = int(input('숫자를 입력하세요: '))\n",
    "\n",
    "print('입력한 숫자는', num)\n",
    "if num%2 == 0 :\n",
    "    print('짝수입니다')     # 나머지가 1이면 True 판정으로 홀수\n",
    "else:\n",
    "    print('홀수입니다')     # 나머지가 0이면 False 판정으로 짝수\n"
   ]
  },
  {
   "cell_type": "code",
   "execution_count": null,
   "metadata": {},
   "outputs": [],
   "source": [
    "num = int(input('점수를 입력하세요: '))\n",
    "if num>=90:\n",
    "    print('A등급입니다.')\n",
    "elif num>=80:\n",
    "    print('B등급입니다')\n",
    "elif num>=70:\n",
    "    print('C등급입니다')\n",
    "elif num>=60:\n",
    "    print('D등급입니다')\n",
    "elif 60>num:\n",
    "    print('F등급입니다')\n"
   ]
  },
  {
   "cell_type": "code",
   "execution_count": null,
   "metadata": {},
   "outputs": [],
   "source": [
    "year_num = str(input('출생연도를 입력해주세요'))\n",
    "\n",
    "print('나이: ', 2024-int(year_num))\n",
    "print('출생연도: ', year_num)\n",
    "print('출생 끝자리: ', year_num[-1:])\n",
    "\n",
    "b1 = int(a1)\n",
    "if d1>65:\n",
    "    print('언제든지 구매가능합니다')\n",
    "elif b1 in (4, 9):          # 출생연도 끝자리가 4, 9 가 있으면\n",
    "    print('목요일입니다.')\n",
    "elif b1 in (5, 0):\n",
    "    print('금요일입니다.')\n",
    "elif b1 in (1, 6):\n",
    "    print('월요일입니다.')\n",
    "elif b1 in (2, 7):\n",
    "    print('화요일입니다.')\n",
    "else :\n",
    "    print('수요일입니다.')"
   ]
  },
  {
   "cell_type": "code",
   "execution_count": null,
   "metadata": {},
   "outputs": [],
   "source": [
    "day_number = int(input('오늘 날짜를 입력하세요'))\n",
    "car_number = input('차량번호 입력하세요(ex: 1234)')\n",
    "\n",
    "if day_number >31 or day_number <=0 :                           # if문은 True이면 다른 if문으로 넘어간다, elif는 if문이 거짓일때 elif조건문을 실행함\n",
    "    print('잘못된 날짜입니다. 다시 입력해주세요.')\n",
    "elif not car_number.isdigit() or len(car_number) !=4 :          # 위에 if문이 False이기 때문에 여기로옴, 주어진조건 True이면 다른 if문으로 넘어감(바로 밑 elif로 넘어가는게 아님)\n",
    "    print('잘못된 차량번호 입니다.')\n",
    "elif int(car_number)%2 == 0 and day_number%2 == 0:              # 위에 if문이 False이기 때문에 여기로옴, 주어진조건 True이면 다른 if문으로 넘어감(조건2개 둘 다 맞아야함, 바로 밑 elif로 넘어가는게 아님)\n",
    "    print('짝수차량 운행일입니다.')\n",
    "    print('운행 가능합니다.')\n",
    "elif not(int(car_number)%2 == 0 and day_number%2 == 0):\n",
    "    print('홀수차량 운행일입니다.')\n",
    "    print('운행 불가능합니다.')\n",
    "elif int(car_number)%2 != 0 and day_number%2 != 0:\n",
    "    print('홀수차량 운행일입니다.')\n",
    "    print('운행 가능합니다.')\n",
    "elif not(int(car_number)%2 != 0 and day_number%2 != 0):\n",
    "    print('짝수차량 운행일입니다.')\n",
    "    print('운행 불가능합니다.')\n",
    "\n",
    "print('오늘날짜는\\'', day_number, '\\'일입니다.', sep='')\n",
    "print('차량번호는\\'', car_number, '\\'입니다.', sep='')  "
   ]
  },
  {
   "cell_type": "code",
   "execution_count": null,
   "metadata": {},
   "outputs": [],
   "source": [
    "user_name = input('이름을 입력해주세요: ')\n",
    "user_visit = input('방문횟수를 입력하세요: ')\n",
    "\n",
    "print(f'{user_name}님 안녕하세요!')\n",
    "print(f'오늘까지 총 {int(user_visit)+1}회 방문하였어요.')"
   ]
  },
  {
   "cell_type": "code",
   "execution_count": null,
   "metadata": {},
   "outputs": [],
   "source": [
    "jumin = '951013-1234567'\n",
    "\n",
    "sex = jumin[7]\n",
    "birth_month = jumin[2:4]\n",
    "birth_day = jumin[4:6]\n",
    "birth_year = '19'+jumin[0:2]\n",
    "jumin_num = jumin[7:]\n",
    "\n",
    "print('성별: ' + sex)\n",
    "print('출생연도: ' + birth_year)\n",
    "print('주민등록번호 뒷자리: ' + jumin_num)\n",
    "\n",
    "\n",
    "# 떠올리기 업그레이드 미션1 -> 거꾸로 적어 내기 \n",
    "\n",
    "string = \" 이번역은 역삼역, 역삼역입니다. 앞으로 읽어도 역삼역 거꾸로 읽어도 역삼역\" \n",
    "\n",
    "print(string[::-1])"
   ]
  },
  {
   "cell_type": "code",
   "execution_count": null,
   "metadata": {},
   "outputs": [],
   "source": [
    "user_id = 'admin'\n",
    "user_pw = '1234'\n",
    "\n",
    "input_id = input('아이디를 입력하세요: ')\n",
    "input_pw = input('패스워드를 입력하세요: ')\n",
    "\n",
    "if input_id != user_id:\n",
    "    print('로그인 실패')\n",
    "    print('등록되지않은 아이디입니다.')\n",
    "elif input_pw != user_pw:\n",
    "    print('로그인 실패')\n",
    "    print('틀린 비밀번호 입니다.')\n",
    "else :\n",
    "    print('로그인 성공')"
   ]
  },
  {
   "cell_type": "markdown",
   "metadata": {},
   "source": [
    "# while 명령어"
   ]
  },
  {
   "cell_type": "code",
   "execution_count": null,
   "metadata": {},
   "outputs": [],
   "source": [
    "# while 조건식:\n",
    "#     명령어"
   ]
  },
  {
   "cell_type": "code",
   "execution_count": null,
   "metadata": {},
   "outputs": [],
   "source": [
    "i = 10\n",
    "while i > 0:\n",
    "    print(f'{i}커피갯수가가 남았습니다')\n",
    "    i = i - 1\n",
    "print('반복문종료')"
   ]
  },
  {
   "cell_type": "code",
   "execution_count": null,
   "metadata": {},
   "outputs": [],
   "source": [
    "\n",
    "\n",
    "i = 0\n",
    "while i < 20:\n",
    "    i += 1\n",
    "    print(i)\n"
   ]
  },
  {
   "cell_type": "code",
   "execution_count": null,
   "metadata": {},
   "outputs": [],
   "source": [
    "i = 0               # 1번부터 지정숫자까지 모두 합을 더하는 반복문\n",
    "i_add = 0\n",
    "end_num = int(input('원하는 숫자를 입력하세요요'))          # end_num은 어느 숫자까지 더할건지 정하는 변수\n",
    "while i < end_num:                      # i는 몇번째 숫자부터 더할건지 정하는 변수\n",
    "    i += 1                              # (다음)순번\n",
    "    i_add += i                      # (다음이 된 이번순번이 )지금까지 더해진값\n",
    "    print(i)\n",
    "    print(i_add)\n",
    "print(f'1부터{end_num}까지의 합은 {i_add}입니다')\n",
    "\n",
    "# 곱, 나누기, 짝수만, 홀수만 만들어보기기"
   ]
  },
  {
   "cell_type": "code",
   "execution_count": null,
   "metadata": {},
   "outputs": [],
   "source": [
    "i = 0               \n",
    "i_add = 0\n",
    "end_num = int(input('원하는 숫자를 입력하세요요'))          \n",
    "while i < end_num:\n",
    "    i += 1\n",
    "    if i%2 !=0 :\n",
    "        i_add += i\n",
    "    print(i_add)\n",
    "print(f'1부터{end_num}까지의 홀수합은 {i_add}입니다')"
   ]
  },
  {
   "cell_type": "code",
   "execution_count": null,
   "metadata": {},
   "outputs": [],
   "source": [
    "i = 0               \n",
    "i_add = 0\n",
    "end_num = int(input('원하는 숫자를 입력하세요요'))          \n",
    "while i < end_num:\n",
    "    i += 1\n",
    "    if i%2 ==0 :\n",
    "        i_add += i\n",
    "    print(i_add)\n",
    "print(f'1부터{end_num}까지의 짝수합은 {i_add}입니다')"
   ]
  },
  {
   "cell_type": "code",
   "execution_count": null,
   "metadata": {},
   "outputs": [],
   "source": [
    "i = 1              \n",
    "i_add = 1\n",
    "end_num = int(input('원하는 숫자를 입력하세요요'))          \n",
    "while i < end_num:\n",
    "    i += 1\n",
    "    i_add *= i\n",
    "    print(i_add)\n",
    "print(f'1부터{end_num}까지의 곱은 {i_add}입니다')"
   ]
  },
  {
   "cell_type": "code",
   "execution_count": null,
   "metadata": {},
   "outputs": [],
   "source": [
    "prompt = \"\"\"\n",
    "1. ADD\n",
    "2. Del\n",
    "3. Quit\n",
    "\n",
    "Enter number:\n",
    "\"\"\"\n",
    "input_num = 0\n",
    "\n",
    "while input_num !=3:            # 3이 아닐경우 True라는 조건\n",
    "    print(prompt)\n",
    "    input_num = int(input())       # 조건변경문 / 지금은 입력하는 숫자에 따라서 조건이 바뀜\n",
    "\n",
    "    # 3을 입력해야만 빠져나가는 무한루프"
   ]
  },
  {
   "cell_type": "code",
   "execution_count": null,
   "metadata": {},
   "outputs": [],
   "source": [
    "for i in range(0,10,2):\n",
    "    print(i)\n",
    "\n",
    "# for i in range(10,0,-1):\n",
    "#     print(i)"
   ]
  },
  {
   "cell_type": "code",
   "execution_count": null,
   "metadata": {},
   "outputs": [],
   "source": [
    "# i = 0\n",
    "# i_add = 0\n",
    "\n",
    "# for i in range(int(input('원하는 숫자를 넣으세요'))):\n",
    "#     i += 1\n",
    "#     i_add+=i\n",
    "#     print(i_add)"
   ]
  },
  {
   "cell_type": "code",
   "execution_count": null,
   "metadata": {},
   "outputs": [],
   "source": [
    "dan = int(input('출력할 단 입력')) # for문 구구단\n",
    "\n",
    "for i in range(1,10):\n",
    "    print(f'{dan}*{i}={i*dan}', end='\\t')"
   ]
  },
  {
   "cell_type": "code",
   "execution_count": null,
   "metadata": {},
   "outputs": [],
   "source": [
    "dan = int(input('출력할 단 입력')) # while문 구구단\n",
    "i = 0\n",
    "while i <10:\n",
    "    i +=1\n",
    "    print(f'{dan}*{i}={i*dan}', end='\\t')"
   ]
  },
  {
   "cell_type": "code",
   "execution_count": null,
   "metadata": {},
   "outputs": [],
   "source": [
    "for i in range(1,10):                       # i 라는 변수에 1~10 이라는 숫자를 넣어줄거임 (단수)\n",
    "    for b in range(1,10):                   # b 라는 변수에 1~10 이라는 숫자를 넣어줄거임 (곱셈)\n",
    "        print(f'{b}*{i}={b*i:<3}', end=' ')     # i 와 b 에 넣어진 숫자를 계산함 / i(1개 숫자) 숫자에 b(1~10) 숫자를 곱함 = i for 문이 더 상위에 있기때문\n",
    "        if b ==9 :          # i 단을 9까지 곱하면 줄넘김을 할거임\n",
    "            print()\n"
   ]
  },
  {
   "cell_type": "code",
   "execution_count": null,
   "metadata": {},
   "outputs": [],
   "source": [
    "# use break \n",
    "hap = 0         # 1부터 10까지 더하다가 20이 넘으면 멈춤\n",
    "for i in range(1,11):\n",
    "    hap += i\n",
    "    if hap >= 20: # >= 를 == 로쓰면 20이 되는 순간이 없기때문에 다 더해버림 / 조건에 해당되는 순간에 브레이크를 걸겠음음\n",
    "        break\n",
    "print(i)        # 6번째일때\n",
    "print(hap)      # 합이 21이되어 멈춤"
   ]
  },
  {
   "cell_type": "code",
   "execution_count": null,
   "metadata": {},
   "outputs": [],
   "source": [
    "# continue\n",
    "\n",
    "hap = 0\n",
    "for i in range(1,11):       # i 변수에 1~10 까지 숫자를 집어넣을거임\n",
    "    if i % 2 ==0:           # i 변수가 나머지가 없으면 for문 빠져나감\n",
    "        continue\n",
    "    print(i, end=' ')       # 홀수만 출력됨\n",
    "    hap += i                # 출력된홀수를 더함\n",
    "\n",
    "print('\\n', hap)"
   ]
  },
  {
   "cell_type": "code",
   "execution_count": null,
   "metadata": {},
   "outputs": [],
   "source": [
    "import random\n",
    "\n",
    "\n",
    "answer = random.randint(1,100)\n",
    "print(answer)\n",
    "i = 0\n",
    "while True:\n",
    "    user_number = int(input('1부터 100사이의 숫자를 맞춰주세요: '))\n",
    "    i += 1\n",
    "    print(f'시도횟수: {i}')\n",
    "    if answer > user_number :\n",
    "        print('입력한 숫자가 작습니다.')\n",
    "    elif answer < user_number :\n",
    "        print('입력한 숫자가 큽니다.')\n",
    "        continue\n",
    "    elif answer == user_number :\n",
    "        print('정답입니다.')\n",
    "        break\n"
   ]
  },
  {
   "cell_type": "code",
   "execution_count": null,
   "metadata": {},
   "outputs": [],
   "source": [
    "\n",
    "x = 0\n",
    "\n",
    "while True:\n",
    "    x += 1\n",
    "    if x >= 20:\n",
    "        break\n",
    "    elif x % 3 ==0 or x % 5 == 0:\n",
    "        continue\n",
    "    print(x, end=' ')"
   ]
  },
  {
   "cell_type": "code",
   "execution_count": null,
   "metadata": {},
   "outputs": [],
   "source": [
    "for i in range(1,20):\n",
    "    if i % 2 == 0:\n",
    "        continue\n",
    "    print(i*'*')"
   ]
  },
  {
   "cell_type": "code",
   "execution_count": null,
   "metadata": {},
   "outputs": [],
   "source": [
    "for i in range(1,11):\n",
    "    print('*' * (2*i-1))"
   ]
  },
  {
   "cell_type": "markdown",
   "metadata": {},
   "source": [
    "# 자료형"
   ]
  },
  {
   "cell_type": "code",
   "execution_count": null,
   "metadata": {},
   "outputs": [],
   "source": [
    "a = [1234124, '문자문자문자', ['안녕', 234235, 3, 'b'], '반복문 어렵다', '그래도 하다보면 괜찮아아']\n",
    "print(a)\n",
    "print(type(a))\n",
    "\n",
    "print(a[0])\n",
    "print(a[:3])\n",
    "print(a[:3][2][0])"
   ]
  },
  {
   "cell_type": "code",
   "execution_count": null,
   "metadata": {},
   "outputs": [],
   "source": [
    "a = [1, 2, 3, ['a', 'b', 'c'], 4, 5]\n",
    "\n",
    "print(a[3][0], a[3][1])\n",
    "print(a[3][:2])"
   ]
  },
  {
   "cell_type": "code",
   "execution_count": null,
   "metadata": {},
   "outputs": [],
   "source": [
    "a = [10, 20, 30, 40, 50]\n",
    "a[1:5] = [100] # 100이라는 숫자는 한개인데 슬라이싱은 1개 이상이라서 부족한 갯수는 사라짐\n",
    "print(a)\n",
    "\n",
    "b = [10, 20, 30, 40, 50]\n",
    "b[2] = 100\n",
    "b[3:5] = [200, 200] # 2개이상 변화시킬때 [] 써줘야함함\n",
    "print(b)\n",
    "\n",
    "c = [10, 20, 30, 40, 50]"
   ]
  },
  {
   "cell_type": "code",
   "execution_count": 2,
   "metadata": {},
   "outputs": [],
   "source": [
    "fruits = ['apple', 'banana']"
   ]
  },
  {
   "cell_type": "code",
   "execution_count": null,
   "metadata": {},
   "outputs": [],
   "source": [
    "fruits.append('cherry')\n",
    "print(fruits)"
   ]
  },
  {
   "cell_type": "code",
   "execution_count": null,
   "metadata": {},
   "outputs": [],
   "source": [
    "fruits.insert(1, 'mango')\n",
    "print(fruits)"
   ]
  },
  {
   "cell_type": "code",
   "execution_count": null,
   "metadata": {},
   "outputs": [],
   "source": [
    "score = [100, 30, 50, 80, 90, 70]\n",
    "print(score)\n",
    "score.sort()\n",
    "print(score)\n",
    "\n",
    "score.sort(reverse=True)\n",
    "print(score)"
   ]
  },
  {
   "cell_type": "code",
   "execution_count": null,
   "metadata": {},
   "outputs": [],
   "source": [
    "score2 = [100, 30, 50, 80, 90, 70]\n",
    "\n",
    "score2.reverse()\n",
    "print(score2)"
   ]
  },
  {
   "cell_type": "code",
   "execution_count": null,
   "metadata": {},
   "outputs": [],
   "source": [
    "score3 = [100,50, 30, 50, 80,50, 90, 70]\n",
    "\n",
    "a = sum(score3) / len(score3)\n",
    "print(a)"
   ]
  },
  {
   "cell_type": "code",
   "execution_count": null,
   "metadata": {},
   "outputs": [],
   "source": [
    "score_test = [90, 25, 67, 45, 80]\n",
    "f = 1\n",
    "\n",
    "for i in score_test:\n",
    "    print(f'{f}번학생은 ', end='')\n",
    "    f +=1\n",
    "    if i >= 60 :\n",
    "        print('합격입니다')\n",
    "    else :\n",
    "        print('불합격입니다')"
   ]
  },
  {
   "cell_type": "code",
   "execution_count": null,
   "metadata": {},
   "outputs": [],
   "source": [
    "print('끝말잇기 게임')\n",
    "print('시작')\n",
    "var = '가나다'\n",
    "print(var)          # 첫 제시어 알려주기용\n",
    "while True:\n",
    "    a = input('단어를 입력해주세요: ')\n",
    "    if var[-1] == a[0]:\n",
    "        var = a\n",
    "        print(a)\n",
    "    else:\n",
    "        print('끝')\n",
    "        break"
   ]
  }
 ],
 "metadata": {
  "kernelspec": {
   "display_name": "Python 3",
   "language": "python",
   "name": "python3"
  },
  "language_info": {
   "codemirror_mode": {
    "name": "ipython",
    "version": 3
   },
   "file_extension": ".py",
   "mimetype": "text/x-python",
   "name": "python",
   "nbconvert_exporter": "python",
   "pygments_lexer": "ipython3",
   "version": "3.13.1"
  }
 },
 "nbformat": 4,
 "nbformat_minor": 2
}
