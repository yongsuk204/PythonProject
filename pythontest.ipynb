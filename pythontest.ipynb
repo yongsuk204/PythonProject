{
 "cells": [
  {
   "cell_type": "markdown",
   "metadata": {},
   "source": [
    "# 2024-12-19"
   ]
  },
  {
   "cell_type": "markdown",
   "metadata": {},
   "source": [
    "### 파이썬 기본 문법"
   ]
  },
  {
   "cell_type": "code",
   "execution_count": 4,
   "metadata": {},
   "outputs": [
    {
     "name": "stdout",
     "output_type": "stream",
     "text": [
      "1\n",
      "2\n",
      "3\n"
     ]
    }
   ],
   "source": [
    "print(1)\n",
    "print(2)\n",
    "print(3)"
   ]
  },
  {
   "cell_type": "code",
   "execution_count": 5,
   "metadata": {},
   "outputs": [
    {
     "name": "stdout",
     "output_type": "stream",
     "text": [
      "1\n",
      "2\n",
      "3\n"
     ]
    }
   ],
   "source": [
    "print('1')\n",
    "print('2')\n",
    "print('3')"
   ]
  },
  {
   "cell_type": "code",
   "execution_count": 6,
   "metadata": {},
   "outputs": [
    {
     "name": "stdout",
     "output_type": "stream",
     "text": [
      "3\n"
     ]
    }
   ],
   "source": [
    "print(1+2)"
   ]
  },
  {
   "cell_type": "code",
   "execution_count": 15,
   "metadata": {},
   "outputs": [
    {
     "name": "stdout",
     "output_type": "stream",
     "text": [
      "1+2\n"
     ]
    }
   ],
   "source": [
    "print('1+2')"
   ]
  },
  {
   "cell_type": "code",
   "execution_count": 3,
   "metadata": {},
   "outputs": [
    {
     "name": "stdout",
     "output_type": "stream",
     "text": [
      "hello world\n"
     ]
    }
   ],
   "source": [
    "print('hello world')"
   ]
  },
  {
   "cell_type": "code",
   "execution_count": 13,
   "metadata": {},
   "outputs": [
    {
     "ename": "SyntaxError",
     "evalue": "invalid syntax (3710955999.py, line 1)",
     "output_type": "error",
     "traceback": [
      "\u001b[1;36m  Cell \u001b[1;32mIn[13], line 1\u001b[1;36m\u001b[0m\n\u001b[1;33m    HELLO Python\u001b[0m\n\u001b[1;37m          ^\u001b[0m\n\u001b[1;31mSyntaxError\u001b[0m\u001b[1;31m:\u001b[0m invalid syntax\n"
     ]
    }
   ],
   "source": [
    "HELLO Python\n"
   ]
  },
  {
   "cell_type": "code",
   "execution_count": 14,
   "metadata": {},
   "outputs": [
    {
     "ename": "NameError",
     "evalue": "name 'hello' is not defined",
     "output_type": "error",
     "traceback": [
      "\u001b[1;31m---------------------------------------------------------------------------\u001b[0m",
      "\u001b[1;31mNameError\u001b[0m                                 Traceback (most recent call last)",
      "Cell \u001b[1;32mIn[14], line 1\u001b[0m\n\u001b[1;32m----> 1\u001b[0m \u001b[43mhello\u001b[49m, Python\n",
      "\u001b[1;31mNameError\u001b[0m: name 'hello' is not defined"
     ]
    }
   ],
   "source": [
    "hello, Python"
   ]
  },
  {
   "cell_type": "code",
   "execution_count": 11,
   "metadata": {},
   "outputs": [
    {
     "name": "stdout",
     "output_type": "stream",
     "text": [
      "hello\n",
      "python\n",
      "홍길동 나이 = 20 세\n"
     ]
    }
   ],
   "source": [
    "# 프린트문 연습\n",
    "print('hello')\n",
    "print('python')\n",
    "print('홍길동','나이 =',20,'세')"
   ]
  },
  {
   "cell_type": "code",
   "execution_count": 135,
   "metadata": {},
   "outputs": [
    {
     "name": "stdout",
     "output_type": "stream",
     "text": [
      "hi to the yongseok\n",
      "hiyongseok\n"
     ]
    }
   ],
   "source": [
    "print('hi','yongseok',sep=' to the ') #sep='여기기에는 띄어쓰기 포함 모든게 다 포함됨' 기본값= ' ' (띄어쓰기기)\n",
    "print('hi'+'yongseok')"
   ]
  },
  {
   "cell_type": "code",
   "execution_count": 138,
   "metadata": {},
   "outputs": [
    {
     "name": "stdout",
     "output_type": "stream",
     "text": [
      "hi\n",
      "yongseok\n"
     ]
    }
   ],
   "source": [
    "print('hi',end=' * ') #end='여기기에는 띄어쓰기 포함 모든게 다 포함됨' 기본값: end = '\\n' (줄바꾸기기)\n",
    "print('yongseok')"
   ]
  },
  {
   "cell_type": "markdown",
   "metadata": {},
   "source": [
    "# 변수"
   ]
  },
  {
   "cell_type": "code",
   "execution_count": 37,
   "metadata": {},
   "outputs": [
    {
     "name": "stdout",
     "output_type": "stream",
     "text": [
      "yongseok 나이 = 30 세\n"
     ]
    }
   ],
   "source": [
    "name = 'yongseok'\n",
    "ag_if_num = 30\n",
    "\n",
    "print(name,'나이 =',ag_if_num,'세')\n"
   ]
  },
  {
   "cell_type": "code",
   "execution_count": 39,
   "metadata": {},
   "outputs": [
    {
     "name": "stdout",
     "output_type": "stream",
     "text": [
      "<class 'bool'>\n"
     ]
    }
   ],
   "source": [
    "print(type(bool('true')))"
   ]
  },
  {
   "cell_type": "code",
   "execution_count": 41,
   "metadata": {},
   "outputs": [
    {
     "name": "stdout",
     "output_type": "stream",
     "text": [
      "7 3 10 2.5 2 1 25\n"
     ]
    }
   ],
   "source": [
    "a = 5+2\n",
    "b = 5-2\n",
    "c = 5*2\n",
    "d = 5/2\n",
    "e = 5//2\n",
    "f = 5%2\n",
    "g = 5**2\n",
    "print(a,b,c,d,e,f,g)"
   ]
  },
  {
   "cell_type": "code",
   "execution_count": 49,
   "metadata": {},
   "outputs": [
    {
     "name": "stdout",
     "output_type": "stream",
     "text": [
      "합: 7\n",
      "빼기: -1\n",
      "곱: 12\n",
      "나눗셈: 0.75\n",
      "나머지: 3\n"
     ]
    }
   ],
   "source": [
    "a = 3\n",
    "b = 4\n",
    "\n",
    "print('합:', a+b)\n",
    "print('빼기:', a-b)\n",
    "print('곱:', a*b)\n",
    "print('나눗셈:', a/b)\n",
    "print('나머지:', a%b)\n"
   ]
  },
  {
   "cell_type": "code",
   "execution_count": 55,
   "metadata": {},
   "outputs": [
    {
     "name": "stdout",
     "output_type": "stream",
     "text": [
      "3 4 6 2\n"
     ]
    }
   ],
   "source": [
    "n = 3462\n",
    "\n",
    "# d1 = print(n//1000)\n",
    "# d2 = print(n//500)\n",
    "# d3 = print(n//400)\n",
    "# d4 = print(n//300)\n",
    "\n",
    "d1000 = n//1000\n",
    "d100 = (n//100)%10\n",
    "d10 = (n//10)%10\n",
    "d1 = n%10\n",
    "print(d1000, d100, d10, d1)"
   ]
  },
  {
   "cell_type": "code",
   "execution_count": 57,
   "metadata": {},
   "outputs": [
    {
     "name": "stdout",
     "output_type": "stream",
     "text": [
      "1123455678997600\n"
     ]
    }
   ],
   "source": [
    "pay = 1123456789\n",
    "\n",
    "d1 = print(pay//100*100)"
   ]
  },
  {
   "cell_type": "code",
   "execution_count": 40,
   "metadata": {},
   "outputs": [
    {
     "name": "stdout",
     "output_type": "stream",
     "text": [
      "4\n"
     ]
    }
   ],
   "source": [
    "# 업그레이드미션 2  \n",
    "\n",
    "# Todo: 변수 a에 저장된 값의 b자리 값을 계산하여 변수 c에 저장하는 코드를 설계하라  \n",
    "\n",
    "#예를 들어 a에 1234가 저장되어 있고 b가 1일 경우 첫 번째 자리값인 4가 c에 저장된다.  \n",
    "\n",
    "#a가 1234일때 b가 4일 경우는 4번째 자리값인 1이 c에 저장되어야 한다.  \n",
    "\n",
    " \n",
    "\n",
    "\n",
    "a = input('숫자를 입력하세요')\n",
    "c = a[int(input(b))-1]\n",
    "print(c)\n"
   ]
  },
  {
   "cell_type": "code",
   "execution_count": 62,
   "metadata": {},
   "outputs": [
    {
     "name": "stdout",
     "output_type": "stream",
     "text": [
      "True\n",
      "False\n",
      "False\n"
     ]
    }
   ],
   "source": [
    "print((3<5)and(4>1)) # 둘다 T 가나와야 T 임 / 하나라도 F 면 F 임\n",
    "print((3>5)or(4<1)) # 둘다 F 가 나와야지 F값이 출력됨 / 하나라도 T 면 T 임\n",
    "print(not(5>2))"
   ]
  },
  {
   "cell_type": "code",
   "execution_count": 80,
   "metadata": {},
   "outputs": [
    {
     "name": "stdout",
     "output_type": "stream",
     "text": [
      "'낮말'은 새가듣고 '밤말'은 쥐가 듣는다.\n"
     ]
    }
   ],
   "source": [
    "print(\"'낮말'은 새가듣고 '밤말'은 쥐가 듣는다.\")"
   ]
  },
  {
   "cell_type": "code",
   "execution_count": 102,
   "metadata": {},
   "outputs": [
    {
     "name": "stdout",
     "output_type": "stream",
     "text": [
      "too\n",
      "lift\n",
      "<class 'str'>\n"
     ]
    }
   ],
   "source": [
    "samplestring = \"life is too short, you need python\"\n",
    "print(samplestring[8],samplestring[9],samplestring[10],sep='')\n",
    "print(samplestring[:3],samplestring[8],sep='')\n",
    "print(type(samplestring[6]))\n",
    "\n"
   ]
  },
  {
   "cell_type": "markdown",
   "metadata": {},
   "source": [
    "# 사용자 입력"
   ]
  },
  {
   "cell_type": "code",
   "execution_count": 106,
   "metadata": {},
   "outputs": [
    {
     "name": "stdout",
     "output_type": "stream",
     "text": [
      "사용자의 이름을 입력하세요:  yongsuk204\n"
     ]
    }
   ],
   "source": [
    "name = input('이름을 입력하세요: ')\n",
    "print('사용자의 이름을 입력하세요: ', name)"
   ]
  },
  {
   "cell_type": "code",
   "execution_count": 116,
   "metadata": {},
   "outputs": [
    {
     "name": "stdout",
     "output_type": "stream",
     "text": [
      "1 + 5 = 6\n"
     ]
    }
   ],
   "source": [
    "a = input('숫자를 넣어주세요:')\n",
    "b = input('다음 더할 숫자를 넣어주세요:')\n",
    "\n",
    "print(int(a),'+',int(b),'=',int(a) + int(b))"
   ]
  },
  {
   "cell_type": "code",
   "execution_count": 112,
   "metadata": {},
   "outputs": [
    {
     "name": "stdout",
     "output_type": "stream",
     "text": [
      "50.0\n"
     ]
    }
   ],
   "source": [
    "# 삼각형 넓이 구하기\n",
    "\n",
    "a = input('한 변의 길이를 입력하세요')\n",
    "b = input('다른 한 변의 길이를 입력하세요')\n",
    "\n",
    "print((int(a)*int(b))/2)"
   ]
  },
  {
   "cell_type": "code",
   "execution_count": 5,
   "metadata": {},
   "outputs": [
    {
     "name": "stdout",
     "output_type": "stream",
     "text": [
      "김밥 주문 갯수 1\n",
      "떡볶이 주문 갯수 1\n",
      "라면면 주문 갯수 1\n",
      "합계: 9000원 입니다.\n"
     ]
    }
   ],
   "source": [
    "# 음식값계산하기\n",
    "\n",
    "# # 김   밥  : 3,000원 \n",
    "\n",
    "# 떡볶이 : 3,500원 \n",
    "\n",
    "# 라    면 : 2,500원 \n",
    "\n",
    "a1 = 3000\n",
    "b1 = 3500\n",
    "c1 = 2500\n",
    "\n",
    "a = input('김밥 주문갯수를 입력해주세요')\n",
    "b = input('떡볶이 주문갯수를 입력하세요')\n",
    "c = input('라면 주문갯수를 입력하세요')\n",
    "\n",
    "a2 = print('김밥 주문 갯수', int(a))\n",
    "b2 = print('떡볶이 주문 갯수', int(b))\n",
    "c2 = print('라면면 주문 갯수', int(c))\n",
    "\n",
    "print('합계: ', (int(a)*a1)+(int(b)*b1)+(int(c)*c1), '원 입니다.', sep='')\n"
   ]
  },
  {
   "cell_type": "code",
   "execution_count": 134,
   "metadata": {},
   "outputs": [
    {
     "name": "stdout",
     "output_type": "stream",
     "text": [
      "3 * 6 = 18\n"
     ]
    }
   ],
   "source": [
    "a = int(input('첫번째 값 입력'))\n",
    "b = int(input('두번째 값 입력'))        # int는 정수값\n",
    "\n",
    "print(f'{a} * {b} = {a*b}')\n",
    "\n"
   ]
  },
  {
   "cell_type": "code",
   "execution_count": 139,
   "metadata": {},
   "outputs": [
    {
     "name": "stdout",
     "output_type": "stream",
     "text": [
      "1000.120 * 2000.5 = 2,000,697.05484\n"
     ]
    }
   ],
   "source": [
    "a = float(input('첫번째 값 입력'))      # float는 실수값\n",
    "b = float(input('두번째 값 입력'))\n",
    "\n",
    "print(f'{a:.3f} * {b:.1f} = {a*b:,.5f}')"
   ]
  },
  {
   "cell_type": "code",
   "execution_count": 157,
   "metadata": {},
   "outputs": [
    {
     "name": "stdout",
     "output_type": "stream",
     "text": [
      "반지름: 150.698 cm\n",
      "원의 둘레:  946.4 cm\n",
      "원의 넓이:  71,309.0 ㎠\n"
     ]
    }
   ],
   "source": [
    "r = float(input('반지름 입력(cm):'))\n",
    "print('반지름:', r , 'cm')\n",
    "print('원의 둘레: ', f'{r*2*3.14:,.1f}', 'cm')\n",
    "print('원의 넓이: ', f'{r**2*3.14:,.1f}', '㎠')"
   ]
  },
  {
   "cell_type": "code",
   "execution_count": 2,
   "metadata": {},
   "outputs": [
    {
     "name": "stdout",
     "output_type": "stream",
     "text": [
      "False\n",
      "<class 'str'>\n",
      "<class 'bool'>\n"
     ]
    }
   ],
   "source": [
    "a = 'True'\n",
    "\n",
    "print(a == True)\n",
    "print(type(a))\n",
    "print(type(True))\n",
    "# 문자열 타입과 불 타입은 != 이기때문에 print(a == True)는 False 이다."
   ]
  },
  {
   "cell_type": "markdown",
   "metadata": {},
   "source": [
    "# 조건문 만들기"
   ]
  },
  {
   "cell_type": "code",
   "execution_count": null,
   "metadata": {},
   "outputs": [
    {
     "name": "stdout",
     "output_type": "stream",
     "text": [
      "입력한 숫자는 5\n",
      "홀수입니다\n"
     ]
    }
   ],
   "source": [
    "# if 조건:\n",
    "#     명령\n",
    "\n",
    "num = int(input('숫자를 입력하세요: '))\n",
    "\n",
    "print('입력한 숫자는', num)\n",
    "if num%2 == 0 :\n",
    "    print('짝수입니다')     # 나머지가 1이면 True 판정으로 홀수\n",
    "else:\n",
    "    print('홀수입니다')     # 나머지가 0이면 False 판정으로 짝수\n"
   ]
  },
  {
   "cell_type": "code",
   "execution_count": 41,
   "metadata": {},
   "outputs": [
    {
     "name": "stdout",
     "output_type": "stream",
     "text": [
      "B등급입니다\n"
     ]
    }
   ],
   "source": [
    "num = int(input('점수를 입력하세요: '))\n",
    "if num>=90:\n",
    "    print('A등급입니다.')\n",
    "elif num>=80:\n",
    "    print('B등급입니다')\n",
    "elif num>=70:\n",
    "    print('C등급입니다')\n",
    "elif num>=60:\n",
    "    print('D등급입니다')\n",
    "elif 60>num:\n",
    "    print('F등급입니다')\n"
   ]
  },
  {
   "cell_type": "code",
   "execution_count": null,
   "metadata": {},
   "outputs": [
    {
     "name": "stdout",
     "output_type": "stream",
     "text": [
      "출생연도:  1245\n",
      "출생 끝자리:  4 5\n",
      "목요일입니다.\n"
     ]
    }
   ],
   "source": [
    "# year_num = str(input('출생연도를 입력해주세요'))\n",
    "# a1 = year_num[-2:]\n",
    "# print('출생연도: ', year_num)\n",
    "# b1 = str(a1)[0]\n",
    "# c1 = str(a1)[1]\n",
    "# print('출생 끝자리: ', b1, c1)\n",
    "# e1 = int(b1)\n",
    "# f1 = int(c1)\n",
    "# if e1 in(4, 9) or f1 in(4, 9):\n",
    "#     print('목요일입니다.')\n",
    "# elif e1 in(5, 0) or f1 in(5, 0):\n",
    "#     print('금요일입니다.')\n",
    "\n",
    "\n",
    "    # 출생연도 끝 2자리로 해버렸음... 다시해야함함\n"
   ]
  },
  {
   "cell_type": "code",
   "execution_count": null,
   "metadata": {},
   "outputs": [
    {
     "name": "stdout",
     "output_type": "stream",
     "text": [
      "나이:  790\n",
      "출생연도:  1234\n",
      "출생 끝자리:  4\n",
      "언제든지 구매가능합니다\n"
     ]
    }
   ],
   "source": [
    "year_num = str(input('출생연도를 입력해주세요'))\n",
    "\n",
    "print('나이: ', 2024-int(year_num))\n",
    "print('출생연도: ', year_num)\n",
    "print('출생 끝자리: ', year_num[-1:])\n",
    "\n",
    "b1 = int(a1)\n",
    "if d1>65:\n",
    "    print('언제든지 구매가능합니다')\n",
    "elif b1 in (4, 9):          # 출생연도 끝자리가 4, 9 가 있으면\n",
    "    print('목요일입니다.')\n",
    "elif b1 in (5, 0):\n",
    "    print('금요일입니다.')\n",
    "elif b1 in (1, 6):\n",
    "    print('월요일입니다.')\n",
    "elif b1 in (2, 7):\n",
    "    print('화요일입니다.')\n",
    "else :\n",
    "    print('수요일입니다.')"
   ]
  },
  {
   "cell_type": "code",
   "execution_count": 38,
   "metadata": {},
   "outputs": [
    {
     "name": "stdout",
     "output_type": "stream",
     "text": [
      "짝수차량 운행일입니다.\n",
      "운행 가능합니다.\n",
      "오늘날짜는'12'일입니다.\n",
      "차량번호는' 1234 '입니다.\n"
     ]
    }
   ],
   "source": [
    "day_number = int(input('오늘 날짜를 입력하세요'))\n",
    "car_number = input('차량번호 입력하세요(ex: 1234)')\n",
    "\n",
    "if day_number >31 or day_number ==0 :                           # if문은 True이면 다른 if문으로 넘어간다, elif는 if문이 거짓일때 elif조건문을 실행함\n",
    "    print('잘못된 날짜입니다. 다시 입력해주세요.')\n",
    "elif not car_number.isdigit() or len(car_number) !=4 :          # 위에 if문이 False이기 때문에 여기로옴, 주어진조건 True이면 다른 if문으로 넘어감(바로 밑 elif로 넘어가는게 아님)\n",
    "    print('잘못된 차량번호 입니다.')\n",
    "elif int(car_number)%2 == 0 and day_number%2 == 0:              # 위에 if문이 False이기 때문에 여기로옴, 주어진조건 True이면 다른 if문으로 넘어감(조건2개 둘 다 맞아야함, 바로 밑 elif로 넘어가는게 아님)\n",
    "    print('짝수차량 운행일입니다.')\n",
    "    print('운행 가능합니다.')\n",
    "elif not(int(car_number)%2 == 0 and day_number%2 == 0):\n",
    "    print('홀수차량 운행일입니다.')\n",
    "    print('운행 불가능합니다.')\n",
    "elif int(car_number)%2 != 0 and day_number%2 != 0:\n",
    "    print('홀수차량 운행일입니다.')\n",
    "    print('운행 가능합니다.')\n",
    "elif not(int(car_number)%2 != 0 and day_number%2 != 0):\n",
    "    print('짝수차량 운행일입니다.')\n",
    "    print('운행 불가능합니다.')\n",
    "\n",
    "print('오늘날짜는\\'', day_number, '\\'일입니다.', sep='')\n",
    "print('차량번호는\\'', car_number, '\\'입니다.', sep='')  "
   ]
  },
  {
   "cell_type": "code",
   "execution_count": 9,
   "metadata": {},
   "outputs": [
    {
     "name": "stdout",
     "output_type": "stream",
     "text": [
      "용석님 안녕하세요!\n",
      "오늘까지 총 12회 방문하였어요.\n"
     ]
    }
   ],
   "source": [
    "user_name = input('이름을 입력해주세요: ')\n",
    "user_visit = input('방문횟수를 입력하세요: ')\n",
    "\n",
    "print(f'{user_name}님 안녕하세요!')\n",
    "print(f'오늘까지 총 {int(user_visit)+1}회 방문하였어요.')"
   ]
  },
  {
   "cell_type": "code",
   "execution_count": 19,
   "metadata": {},
   "outputs": [
    {
     "name": "stdout",
     "output_type": "stream",
     "text": [
      "성별: 1\n",
      "출생연도: 1995\n",
      "주민등록번호 뒷자리: 1234567\n",
      "역삼역 도어읽 로꾸거 역삼역 도어읽 로으앞 .다니입역삼역 ,역삼역 은역번이 \n"
     ]
    }
   ],
   "source": [
    "jumin = '951013-1234567'\n",
    "\n",
    "sex = jumin[7]\n",
    "birth_month = jumin[2:4]\n",
    "birth_day = jumin[4:6]\n",
    "birth_year = '19'+jumin[0:2]\n",
    "jumin_num = jumin[7:]\n",
    "\n",
    "print('성별: ' + sex)\n",
    "print('출생연도: ' + birth_year)\n",
    "print('주민등록번호 뒷자리: ' + jumin_num)\n",
    "\n",
    "\n",
    "# 떠올리기 업그레이드 미션1 -> 거꾸로 적어 내기 \n",
    "\n",
    "string = \" 이번역은 역삼역, 역삼역입니다. 앞으로 읽어도 역삼역 거꾸로 읽어도 역삼역\" \n",
    "\n",
    "print(string[::-1])"
   ]
  },
  {
   "cell_type": "code",
   "execution_count": 126,
   "metadata": {},
   "outputs": [
    {
     "name": "stdout",
     "output_type": "stream",
     "text": [
      "로그인 실패\n",
      "틀린 비밀번호 입니다.\n"
     ]
    }
   ],
   "source": [
    "user_id = 'admin'\n",
    "user_pw = '1234'\n",
    "\n",
    "input_id = input('아이디를 입력하세요: ')\n",
    "input_pw = input('패스워드를 입력하세요: ')\n",
    "\n",
    "if input_id != user_id:\n",
    "    print('로그인 실패')\n",
    "    print('등록되지않은 아이디입니다.')\n",
    "elif input_pw != user_pw:\n",
    "    print('로그인 실패')\n",
    "    print('틀린 비밀번호 입니다.')\n",
    "else :\n",
    "    print('로그인 성공')"
   ]
  },
  {
   "cell_type": "markdown",
   "metadata": {},
   "source": [
    "# while 명령어"
   ]
  },
  {
   "cell_type": "code",
   "execution_count": 30,
   "metadata": {},
   "outputs": [
    {
     "ename": "NameError",
     "evalue": "name '조건식' is not defined",
     "output_type": "error",
     "traceback": [
      "\u001b[1;31m---------------------------------------------------------------------------\u001b[0m",
      "\u001b[1;31mNameError\u001b[0m                                 Traceback (most recent call last)",
      "Cell \u001b[1;32mIn[30], line 1\u001b[0m\n\u001b[1;32m----> 1\u001b[0m \u001b[38;5;28;01mwhile\u001b[39;00m \u001b[43m조건식\u001b[49m:\n\u001b[0;32m      2\u001b[0m     명령어\n",
      "\u001b[1;31mNameError\u001b[0m: name '조건식' is not defined"
     ]
    }
   ],
   "source": [
    "while 조건식:\n",
    "    명령어"
   ]
  },
  {
   "cell_type": "code",
   "execution_count": 39,
   "metadata": {},
   "outputs": [
    {
     "name": "stdout",
     "output_type": "stream",
     "text": [
      "10커피갯수가가 남았습니다\n",
      "9커피갯수가가 남았습니다\n",
      "8커피갯수가가 남았습니다\n",
      "7커피갯수가가 남았습니다\n",
      "6커피갯수가가 남았습니다\n",
      "5커피갯수가가 남았습니다\n",
      "4커피갯수가가 남았습니다\n",
      "3커피갯수가가 남았습니다\n",
      "2커피갯수가가 남았습니다\n",
      "1커피갯수가가 남았습니다\n",
      "반복문종료\n"
     ]
    }
   ],
   "source": [
    "i = 10\n",
    "while i > 0:\n",
    "    print(f'{i}커피갯수가가 남았습니다')\n",
    "    i = i - 1\n",
    "print('반복문종료')"
   ]
  },
  {
   "cell_type": "code",
   "execution_count": 44,
   "metadata": {},
   "outputs": [
    {
     "name": "stdout",
     "output_type": "stream",
     "text": [
      "1\n",
      "2\n",
      "3\n",
      "4\n",
      "5\n",
      "6\n",
      "7\n",
      "8\n",
      "9\n",
      "10\n",
      "11\n",
      "12\n",
      "13\n",
      "14\n",
      "15\n",
      "16\n",
      "17\n",
      "18\n",
      "19\n",
      "20\n"
     ]
    }
   ],
   "source": [
    "\n",
    "\n",
    "i = 0\n",
    "while i < 20:\n",
    "    i += 1\n",
    "    print(i)\n"
   ]
  },
  {
   "cell_type": "code",
   "execution_count": 54,
   "metadata": {},
   "outputs": [
    {
     "name": "stdout",
     "output_type": "stream",
     "text": [
      "1\n",
      "1\n",
      "2\n",
      "3\n",
      "3\n",
      "6\n",
      "1부터3까지의 합은 6입니다\n"
     ]
    }
   ],
   "source": [
    "i = 0\n",
    "i_add = 0\n",
    "end_num = int(input('원하는 숫자를 입력하세요요'))\n",
    "while i < end_num:\n",
    "    i += 1\n",
    "    i_add += i\n",
    "    print(i)\n",
    "    print(i_add)\n",
    "print(f'1부터{end_num}까지의 합은 {i_add}입니다')\n",
    "\n",
    "# 곱, 나누기, 짝수만, 홀수만 만들어보기기"
   ]
  },
  {
   "cell_type": "code",
   "execution_count": 52,
   "metadata": {},
   "outputs": [
    {
     "name": "stdout",
     "output_type": "stream",
     "text": [
      "\n",
      "1. ADD\n",
      "2. Del\n",
      "3. Quit\n",
      "\n",
      "Enter number:\n",
      "\n",
      "\n",
      "1. ADD\n",
      "2. Del\n",
      "3. Quit\n",
      "\n",
      "Enter number:\n",
      "\n"
     ]
    }
   ],
   "source": [
    "prompt = \"\"\"\n",
    "1. ADD\n",
    "2. Del\n",
    "3. Quit\n",
    "\n",
    "Enter number:\n",
    "\"\"\"\n",
    "input_num = 0\n",
    "\n",
    "while input_num !=3:\n",
    "    print(prompt)\n",
    "    input_num = int(input())"
   ]
  },
  {
   "cell_type": "code",
   "execution_count": 61,
   "metadata": {},
   "outputs": [
    {
     "name": "stdout",
     "output_type": "stream",
     "text": [
      "0\n",
      "2\n",
      "4\n",
      "6\n",
      "8\n",
      "10\n",
      "9\n",
      "8\n",
      "7\n",
      "6\n",
      "5\n",
      "4\n",
      "3\n",
      "2\n",
      "1\n"
     ]
    }
   ],
   "source": [
    "for i in range(0,10,2):\n",
    "    print(i)\n",
    "\n",
    "for i in range(10,0,-1):\n",
    "    print(i)"
   ]
  },
  {
   "cell_type": "code",
   "execution_count": 71,
   "metadata": {},
   "outputs": [
    {
     "name": "stdout",
     "output_type": "stream",
     "text": [
      "1\n",
      "3\n",
      "6\n",
      "10\n",
      "15\n"
     ]
    }
   ],
   "source": [
    "# i = 0\n",
    "# i_add = 0\n",
    "\n",
    "# for i in range(int(input('원하는 숫자를 넣으세요'))):\n",
    "#     i += 1\n",
    "#     i_add+=i\n",
    "#     print(i_add)"
   ]
  },
  {
   "cell_type": "code",
   "execution_count": 85,
   "metadata": {},
   "outputs": [
    {
     "name": "stdout",
     "output_type": "stream",
     "text": [
      "5*1=5\n",
      "5*2=10\n",
      "5*3=15\n",
      "5*4=20\n",
      "5*5=25\n",
      "5*6=30\n",
      "5*7=35\n",
      "5*8=40\n",
      "5*9=45\n"
     ]
    }
   ],
   "source": [
    "dan = int(input('출력할 단 입력'))\n",
    "\n",
    "for i in range(1,10):\n",
    "    print(f'{dan}*{i}={i*dan}')"
   ]
  },
  {
   "cell_type": "code",
   "execution_count": 172,
   "metadata": {},
   "outputs": [
    {
     "name": "stdout",
     "output_type": "stream",
     "text": [
      "2*1=2\t2*2=4\t2*3=6\t2*4=8\t2*5=10\t2*6=12\t2*7=14\t2*8=16\t2*9=18\t2*10=20\t"
     ]
    }
   ],
   "source": [
    "dan = int(input('출력할 단 입력'))\n",
    "i = 0\n",
    "while i <10:\n",
    "    i +=1\n",
    "    print(f'{dan}*{i}={i*dan}', end='\\t')"
   ]
  },
  {
   "cell_type": "code",
   "execution_count": 185,
   "metadata": {},
   "outputs": [
    {
     "name": "stdout",
     "output_type": "stream",
     "text": [
      "2*1=2  \t\n",
      "\n",
      "3*1=3  \t\n",
      "\n",
      "4*1=4  \t\n",
      "\n",
      "5*1=5  \t\n",
      "\n",
      "6*1=6  \t\n",
      "\n",
      "7*1=7  \t\n",
      "\n",
      "8*1=8  \t\n",
      "\n",
      "9*1=9  \t\n",
      "\n",
      "2*2=4  \t\n",
      "\n",
      "3*2=6  \t\n",
      "\n",
      "4*2=8  \t\n",
      "\n",
      "5*2=10 \t\n",
      "\n",
      "6*2=12 \t\n",
      "\n",
      "7*2=14 \t\n",
      "\n",
      "8*2=16 \t\n",
      "\n",
      "9*2=18 \t\n",
      "\n",
      "2*3=6  \t\n",
      "\n",
      "3*3=9  \t\n",
      "\n",
      "4*3=12 \t\n",
      "\n",
      "5*3=15 \t\n",
      "\n",
      "6*3=18 \t\n",
      "\n",
      "7*3=21 \t\n",
      "\n",
      "8*3=24 \t\n",
      "\n",
      "9*3=27 \t\n",
      "\n",
      "2*4=8  \t\n",
      "\n",
      "3*4=12 \t\n",
      "\n",
      "4*4=16 \t\n",
      "\n",
      "5*4=20 \t\n",
      "\n",
      "6*4=24 \t\n",
      "\n",
      "7*4=28 \t\n",
      "\n",
      "8*4=32 \t\n",
      "\n",
      "9*4=36 \t\n",
      "\n",
      "2*5=10 \t\n",
      "\n",
      "3*5=15 \t\n",
      "\n",
      "4*5=20 \t\n",
      "\n",
      "5*5=25 \t\n",
      "\n",
      "6*5=30 \t\n",
      "\n",
      "7*5=35 \t\n",
      "\n",
      "8*5=40 \t\n",
      "\n",
      "9*5=45 \t\n",
      "\n",
      "2*6=12 \t\n",
      "\n",
      "3*6=18 \t\n",
      "\n",
      "4*6=24 \t\n",
      "\n",
      "5*6=30 \t\n",
      "\n",
      "6*6=36 \t\n",
      "\n",
      "7*6=42 \t\n",
      "\n",
      "8*6=48 \t\n",
      "\n",
      "9*6=54 \t\n",
      "\n",
      "2*7=14 \t\n",
      "\n",
      "3*7=21 \t\n",
      "\n",
      "4*7=28 \t\n",
      "\n",
      "5*7=35 \t\n",
      "\n",
      "6*7=42 \t\n",
      "\n",
      "7*7=49 \t\n",
      "\n",
      "8*7=56 \t\n",
      "\n",
      "9*7=63 \t\n",
      "\n",
      "2*8=16 \t\n",
      "\n",
      "3*8=24 \t\n",
      "\n",
      "4*8=32 \t\n",
      "\n",
      "5*8=40 \t\n",
      "\n",
      "6*8=48 \t\n",
      "\n",
      "7*8=56 \t\n",
      "\n",
      "8*8=64 \t\n",
      "\n",
      "9*8=72 \t\n",
      "\n",
      "2*9=18 \t\n",
      "\n",
      "3*9=27 \t\n",
      "\n",
      "4*9=36 \t\n",
      "\n",
      "5*9=45 \t\n",
      "\n",
      "6*9=54 \t\n",
      "\n",
      "7*9=63 \t\n",
      "\n",
      "8*9=72 \t\n",
      "\n",
      "9*9=81 \t\n",
      "\n"
     ]
    }
   ],
   "source": [
    "i = 1\n",
    "b = 2\n",
    "for i in range(1,10):\n",
    "    for b in range(2,10):\n",
    "        print(f'{b}*{i}={i*b:<3d}', end='\\t')\n",
    "        print('\\n')\n",
    "\n",
    "# 다시해야함\n",
    "    # print(f'{1}*{i}={1*i:<3}', end=' ')\n",
    "    # print(f'{2}*{i}={2*i:<3}', end=' ')\n",
    "    # print(f'{3}*{i}={3*i:<3}', end=' ')\n",
    "    # print(f'{4}*{i}={4*i:<3}', end=' ')\n",
    "    # print(f'{5}*{i}={5*i:<3}', end=' ')\n",
    "    # print(f'{6}*{i}={6*i:<3}', end=' ')\n",
    "    # print(f'{7}*{i}={7*i:<3}', end=' ')\n",
    "    # print(f'{8}*{i}={8*i:<3}', end=' ')\n",
    "    # print(f'{9}*{i}={9*i:<3}')"
   ]
  },
  {
   "cell_type": "code",
   "execution_count": 187,
   "metadata": {},
   "outputs": [
    {
     "name": "stdout",
     "output_type": "stream",
     "text": [
      "6\n",
      "21\n"
     ]
    }
   ],
   "source": [
    "# use break \n",
    "hap = 0\n",
    "for i in range(1,11):\n",
    "    hap +=i\n",
    "    if hap >= 20: # >= 를 == 로쓰면 20이 되는 순간이 없기때문에 다 더해버림 / 조건에 해당되는 순간에 브레이크를 걸겠음음\n",
    "        print(i)\n",
    "        break\n",
    "print(hap)"
   ]
  },
  {
   "cell_type": "code",
   "execution_count": 1,
   "metadata": {},
   "outputs": [
    {
     "name": "stdout",
     "output_type": "stream",
     "text": [
      "1 3 5 7 9 \n",
      " 25\n"
     ]
    }
   ],
   "source": [
    "# continue\n",
    "\n",
    "hap = 0\n",
    "for i in range(1,11):\n",
    "    if i % 2 ==0:\n",
    "        continue\n",
    "    print(i, end=' ')\n",
    "    hap += i\n",
    "\n",
    "\n",
    "print('\\n', hap)"
   ]
  },
  {
   "cell_type": "code",
   "execution_count": 5,
   "metadata": {},
   "outputs": [
    {
     "name": "stdout",
     "output_type": "stream",
     "text": [
      "52\n",
      "시도횟수: 1\n",
      "입력한 숫자가 큽니다.\n",
      "시도횟수: 2\n",
      "입력한 숫자가 큽니다.\n",
      "시도횟수: 3\n",
      "입력한 숫자가 큽니다.\n",
      "시도횟수: 4\n",
      "입력한 숫자가 큽니다.\n",
      "시도횟수: 5\n",
      "정답입니다.\n"
     ]
    }
   ],
   "source": [
    "import random\n",
    "\n",
    "\n",
    "answer = random.randint(1,100)\n",
    "print(answer)\n",
    "i = 0\n",
    "while True:\n",
    "    user_number = int(input('1부터 100사이의 숫자를 맞춰주세요: '))\n",
    "    i += 1\n",
    "    print(f'시도횟수: {i}')\n",
    "    if answer > user_number :\n",
    "        print('입력한 숫자가 작습니다.')\n",
    "    elif answer < user_number :\n",
    "        print('입력한 숫자가 큽니다.')\n",
    "        continue\n",
    "    elif answer == user_number :\n",
    "        print('정답입니다.')\n",
    "        break\n"
   ]
  },
  {
   "cell_type": "code",
   "execution_count": 28,
   "metadata": {},
   "outputs": [
    {
     "name": "stdout",
     "output_type": "stream",
     "text": [
      "1 2 4 7 8 11 13 14 16 17 19 "
     ]
    }
   ],
   "source": [
    "\n",
    "x = 0\n",
    "\n",
    "while True:\n",
    "    x += 1\n",
    "    if x >= 20:\n",
    "        break\n",
    "    elif x % 3 ==0 or x % 5 == 0:\n",
    "        continue\n",
    "    print(x, end=' ')"
   ]
  },
  {
   "cell_type": "code",
   "execution_count": 53,
   "metadata": {},
   "outputs": [
    {
     "name": "stdout",
     "output_type": "stream",
     "text": [
      "*\n",
      "***\n",
      "*****\n",
      "*******\n",
      "*********\n",
      "***********\n",
      "*************\n",
      "***************\n",
      "*****************\n",
      "*******************\n"
     ]
    }
   ],
   "source": [
    "for i in range(1,20):\n",
    "    if i % 2 == 0:\n",
    "        continue\n",
    "    print(i*'*')"
   ]
  },
  {
   "cell_type": "code",
   "execution_count": 58,
   "metadata": {},
   "outputs": [
    {
     "name": "stdout",
     "output_type": "stream",
     "text": [
      "*\n",
      "***\n",
      "*****\n",
      "*******\n",
      "*********\n",
      "***********\n",
      "*************\n",
      "***************\n",
      "*****************\n",
      "*******************\n",
      "/n\n"
     ]
    }
   ],
   "source": [
    "for i in range(1,11):\n",
    "    print('*' * (2*i-1))"
   ]
  },
  {
   "cell_type": "markdown",
   "metadata": {},
   "source": [
    "# 자료형"
   ]
  },
  {
   "cell_type": "code",
   "execution_count": 10,
   "metadata": {},
   "outputs": [
    {
     "name": "stdout",
     "output_type": "stream",
     "text": [
      "[1234124, '문자문자문자', ['안녕', 234235, 3, 'b'], '반복문 어렵다', '그래도 하다보면 괜찮아아']\n",
      "<class 'list'>\n",
      "1234124\n",
      "[1234124, '문자문자문자', ['안녕', 234235, 3, 'b']]\n",
      "안녕\n"
     ]
    }
   ],
   "source": [
    "a = [1234124, '문자문자문자', ['안녕', 234235, 3, 'b'], '반복문 어렵다', '그래도 하다보면 괜찮아아']\n",
    "print(a)\n",
    "print(type(a))\n",
    "\n",
    "print(a[0])\n",
    "print(a[:3])\n",
    "print(a[:3][2][0])"
   ]
  },
  {
   "cell_type": "code",
   "execution_count": 14,
   "metadata": {},
   "outputs": [
    {
     "name": "stdout",
     "output_type": "stream",
     "text": [
      "a b\n",
      "['a', 'b']\n"
     ]
    }
   ],
   "source": [
    "a = [1, 2, 3, ['a', 'b', 'c'], 4, 5]\n",
    "\n",
    "print(a[3][0], a[3][1])\n",
    "print(a[3][:2])"
   ]
  },
  {
   "cell_type": "code",
   "execution_count": 31,
   "metadata": {},
   "outputs": [
    {
     "name": "stdout",
     "output_type": "stream",
     "text": [
      "[10, 100]\n",
      "[10, 20, 100, 200, 200]\n"
     ]
    }
   ],
   "source": [
    "a = [10, 20, 30, 40, 50]\n",
    "a[1:5] = [100] # 100이라는 숫자는 한개인데 슬라이싱은 1개 이상이라서 부족한 갯수는 사라짐\n",
    "print(a)\n",
    "\n",
    "b = [10, 20, 30, 40, 50]\n",
    "b[2] = 100\n",
    "b[3:5] = [200, 200] # 2개이상 변화시킬때 [] 써줘야함함\n",
    "print(b)\n",
    "\n",
    "c = [10, 20, 30, 40, 50]"
   ]
  },
  {
   "cell_type": "code",
   "execution_count": 2,
   "metadata": {},
   "outputs": [],
   "source": [
    "fruits = ['apple', 'banana']"
   ]
  },
  {
   "cell_type": "code",
   "execution_count": 3,
   "metadata": {},
   "outputs": [
    {
     "name": "stdout",
     "output_type": "stream",
     "text": [
      "['apple', 'banana', 'cherry']\n"
     ]
    }
   ],
   "source": [
    "fruits.append('cherry')\n",
    "print(fruits)"
   ]
  },
  {
   "cell_type": "code",
   "execution_count": 5,
   "metadata": {},
   "outputs": [
    {
     "name": "stdout",
     "output_type": "stream",
     "text": [
      "['apple', 'mango', 'mango', 'mango', 'banana']\n"
     ]
    }
   ],
   "source": [
    "fruits.insert(1, 'mango')\n",
    "print(fruits)"
   ]
  },
  {
   "cell_type": "code",
   "execution_count": 3,
   "metadata": {},
   "outputs": [
    {
     "name": "stdout",
     "output_type": "stream",
     "text": [
      "[100, 30, 50, 80, 90, 70]\n",
      "[30, 50, 70, 80, 90, 100]\n",
      "[100, 90, 80, 70, 50, 30]\n"
     ]
    }
   ],
   "source": [
    "score = [100, 30, 50, 80, 90, 70]\n",
    "print(score)\n",
    "score.sort()\n",
    "print(score)\n",
    "\n",
    "score.sort(reverse=True)\n",
    "print(score)"
   ]
  },
  {
   "cell_type": "code",
   "execution_count": 5,
   "metadata": {},
   "outputs": [
    {
     "name": "stdout",
     "output_type": "stream",
     "text": [
      "[70, 90, 80, 50, 30, 100]\n"
     ]
    }
   ],
   "source": [
    "score2 = [100, 30, 50, 80, 90, 70]\n",
    "\n",
    "score2.reverse()\n",
    "print(score2)"
   ]
  },
  {
   "cell_type": "code",
   "execution_count": 1,
   "metadata": {},
   "outputs": [
    {
     "name": "stdout",
     "output_type": "stream",
     "text": [
      "65.0\n"
     ]
    }
   ],
   "source": [
    "score3 = [100,50, 30, 50, 80,50, 90, 70]\n",
    "\n",
    "a = sum(score3) / len(score3)\n",
    "print(a)"
   ]
  },
  {
   "cell_type": "code",
   "execution_count": 12,
   "metadata": {},
   "outputs": [
    {
     "name": "stdout",
     "output_type": "stream",
     "text": [
      "1번학생은 합격입니다\n",
      "2번학생은 불합격입니다\n",
      "3번학생은 합격입니다\n",
      "4번학생은 불합격입니다\n",
      "5번학생은 합격입니다\n"
     ]
    }
   ],
   "source": [
    "score_test = [90, 25, 67, 45, 80]\n",
    "f = 1\n",
    "\n",
    "for i in score_test:\n",
    "    print(f'{f}번학생은 ', end='')\n",
    "    f +=1\n",
    "    if i >= 60 :\n",
    "        print('합격입니다')\n",
    "    else :\n",
    "        print('불합격입니다')"
   ]
  },
  {
   "cell_type": "code",
   "execution_count": 19,
   "metadata": {},
   "outputs": [
    {
     "name": "stdout",
     "output_type": "stream",
     "text": [
      "끝말잇기 게임\n",
      "시작\n",
      "가나다\n",
      "다람쥐\n",
      "쥐방울\n",
      "울림대\n",
      "대학\n",
      "끝\n"
     ]
    }
   ],
   "source": [
    "print('끝말잇기 게임')\n",
    "print('시작')\n",
    "var = '가나다'\n",
    "print(var)\n",
    "while True:\n",
    "    a = input('단어를 입력해주세요: ')\n",
    "    if var[-1] == a[0]:\n",
    "        var = a\n",
    "        print(a)\n",
    "    else:\n",
    "        print('끝')\n",
    "        break"
   ]
  }
 ],
 "metadata": {
  "kernelspec": {
   "display_name": "Python 3",
   "language": "python",
   "name": "python3"
  },
  "language_info": {
   "codemirror_mode": {
    "name": "ipython",
    "version": 3
   },
   "file_extension": ".py",
   "mimetype": "text/x-python",
   "name": "python",
   "nbconvert_exporter": "python",
   "pygments_lexer": "ipython3",
   "version": "3.13.1"
  }
 },
 "nbformat": 4,
 "nbformat_minor": 2
}
