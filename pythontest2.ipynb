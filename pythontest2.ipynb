{
 "cells": [
  {
   "cell_type": "markdown",
   "metadata": {},
   "source": [
    "# 2024-12-23"
   ]
  },
  {
   "cell_type": "code",
   "execution_count": null,
   "metadata": {},
   "outputs": [],
   "source": [
    "for a in range(2,10):\n",
    "    for i in range(1,10):\n",
    "        print(a * i, end=' ')\n",
    "    print()"
   ]
  },
  {
   "cell_type": "code",
   "execution_count": null,
   "metadata": {},
   "outputs": [],
   "source": [
    "coffee = 3\n",
    "\n",
    "\n",
    "while coffee !=0 :\n",
    "    money = input('금액을 입력하세요: ')\n",
    "    if coffee == 0:\n",
    "        print('커피가 다 떨어졌습니다 자판기를 종료합니다')     # 이 문구가 나오게 다시해볼것것\n",
    "        break\n",
    "    elif int(money) >=300 :\n",
    "        coffee -= 1\n",
    "        print('커피 한 잔이 나옵니다.')\n",
    "        print(f'거르름돈은{int(money)-300}입니다.')\n",
    "        print(f'남은 커피의 갯수: {coffee}')\n",
    "    elif int(money) <300 :\n",
    "        print(f'금액이 부족합니다{int(money)}원을 반환합니다.')\n",
    "        print(f'남은 커피의 갯수: {coffee}')"
   ]
  },
  {
   "cell_type": "code",
   "execution_count": null,
   "metadata": {},
   "outputs": [],
   "source": [
    "Menu_1 = {'김밥':3000, '라면':4500, '순대':2500, '떡볶이':5000}\n",
    "print(Menu_1.values())\n",
    "print(Menu_1.keys())\n",
    "print(Menu_1.items())\n",
    "Menu_1.get('김밥')"
   ]
  },
  {
   "cell_type": "code",
   "execution_count": null,
   "metadata": {},
   "outputs": [],
   "source": [
    "todolist_1 = []\n",
    "input_num = 0\n",
    "prompt_1 = '''1:추가\n",
    "2:삭제\n",
    "3:종료'''\n",
    "\n",
    "while input_num !=3 :\n",
    "    print('*'*20)\n",
    "    print(prompt_1)\n",
    "    input_num = int(input('숫자를 입력하세요: '))\n",
    "    if input_num ==1:\n",
    "        todolist_1.append(input('할일 내용 입력: '))\n",
    "    elif input_num ==2:\n",
    "        todolist_1.remove(input('삭제 할 리스트: '))\n",
    "    elif input_num ==3:\n",
    "        print('프로그램을 종료합니다.')\n",
    "        break\n",
    "    else :\n",
    "        print('잘못된 입력입니다. 다시 선택해주세요')\n",
    "\n",
    "    for i in range(len(todolist_1)):\n",
    "        print('*'*20)\n",
    "        print(f'{i+1}.{todolist_1[i]}')\n",
    "        "
   ]
  },
  {
   "cell_type": "code",
   "execution_count": null,
   "metadata": {},
   "outputs": [],
   "source": [
    "callbook_1 = []\n",
    "prompt_1 = '''1.추가\n",
    "2.검색\n",
    "0.종료'''\n",
    "input_num = 0\n",
    "while True :\n",
    "    print(prompt_1)\n",
    "    input_num = int(input('숫자를 입력하세요: '))\n",
    "    if input_num ==1:\n",
    "        callbook_1 = {input('추가할 이름을 입력하세요: '):input('추가할 전화번호를 입력하세요: ')}\n",
    "    elif input_num ==2:\n",
    "        print('검색가능한 이름들:', list(callbook_1.keys()))\n",
    "        fide_name = input('검색할 이름을 입력하세요: ')\n",
    "        fide_callnum = callbook_1.get(fide_name)\n",
    "        print(f'검색한 {fide_name}의 전화번호는{fide_callnum}입니다.')\n",
    "    elif input_num ==0:\n",
    "        print('프로그램을 종료합니다.')\n",
    "        break\n",
    "    else:\n",
    "        print('잘못된 입력입니다. 다시 선택해주세요')"
   ]
  },
  {
   "cell_type": "code",
   "execution_count": null,
   "metadata": {},
   "outputs": [],
   "source": [
    "addr = {\n",
    "    '박지민': '010-1111-1111', \n",
    "    '전정국': '010-2222-2222', \n",
    "    '정호석': '010-3333-3333', \n",
    "    '김석진': '010-4444-4444', \n",
    "    '김남준': '010-6666-6666', \n",
    "}\n",
    "\n",
    "while True:\n",
    "    print('메뉴선택(1. 추가, 2. 검색, 0. 종료)? :', end=\" \")\n",
    "    menu = int(input('메뉴선택(1. 추가, 2. 검색, 0. 종료)? :'))\n",
    "    print(menu)\n",
    "\n",
    "    if menu == 1: # 추가\n",
    "        addr_key = input('친구 이름 입력>> ')\n",
    "        addr_value = input('전화번호 입력>> ')\n",
    "        addr[addr_key] = addr_value # 새로운 요소 삽입\n",
    "    elif menu == 2: # 검색\n",
    "        # 어떤친구이름이 있는지보여주기\n",
    "        print('내 친구들', list(addr.keys()))\n",
    "        name = input('검색할 친구 이름 입력>> ')\n",
    "        # print(addr[name]) --> 이렇게하면 밸류값만 나오게됨\n",
    "        if addr.get(name):          # 잘못된 이름넣으면\n",
    "            print('그런 이름 없음')\n",
    "        else:\n",
    "            print(addr.get(name))     \n",
    "    elif menu == 0:\n",
    "        print('프로그램을 종료합니다.')\n",
    "        break\n",
    "    else:\n",
    "        print('잘못된 번호를 입력했습니다.')\n",
    "        continue"
   ]
  },
  {
   "cell_type": "code",
   "execution_count": null,
   "metadata": {},
   "outputs": [],
   "source": [
    "fruit = ['사과', '포도', '홍시']\n",
    "i = input('좋아하는 과일은?: ') \n",
    "\n",
    "if i in fruit:\n",
    "    print('과일 바구니에 있는 과일입니다.')\n",
    "else :\n",
    "    print('없는 과일입니다.')"
   ]
  },
  {
   "cell_type": "markdown",
   "metadata": {},
   "source": [
    "# 사용자 정의 함수"
   ]
  },
  {
   "cell_type": "code",
   "execution_count": null,
   "metadata": {},
   "outputs": [],
   "source": [
    "def 함수이름(매개변소):\n",
    "    수행할 명령어\n",
    "    retrun 리턴값"
   ]
  },
  {
   "cell_type": "code",
   "execution_count": null,
   "metadata": {},
   "outputs": [],
   "source": [
    "def Hi():\n",
    "    print('hi')\n",
    "\n",
    "Hi()"
   ]
  },
  {
   "cell_type": "code",
   "execution_count": null,
   "metadata": {},
   "outputs": [],
   "source": [
    "def num_max(a, b, c):\n",
    "    if a > b:\n",
    "        if a > c:\n",
    "            return a\n",
    "        else:\n",
    "            return c\n",
    "    elif b > c:\n",
    "        return b\n",
    "    else :\n",
    "        return c\n",
    "        \n",
    "        \n",
    "print(num_max(111,1133,1155))"
   ]
  },
  {
   "cell_type": "code",
   "execution_count": null,
   "metadata": {},
   "outputs": [],
   "source": [
    "def isLeapYear(year_num):\n",
    "    if year_num % 4 == 0 and not year_num %100 == 0 or year_num % 400 ==0 :\n",
    "        return True\n",
    "    else :\n",
    "        return False\n",
    "\n",
    "print(isLeapYear(2022))\n",
    "print(isLeapYear(2010))\n",
    "print(isLeapYear(2000))\n",
    "print(isLeapYear(1900))\n",
    "print(isLeapYear(1600))"
   ]
  },
  {
   "cell_type": "code",
   "execution_count": null,
   "metadata": {},
   "outputs": [],
   "source": [
    "def add_all(*abc):\n",
    "    result = 0\n",
    "    for i in abc:\n",
    "        result += i\n",
    "    return result\n",
    "\n",
    "print(add_all(1,2,3,4,5,6,7,8,9,10))"
   ]
  },
  {
   "cell_type": "code",
   "execution_count": 10,
   "metadata": {},
   "outputs": [
    {
     "name": "stdout",
     "output_type": "stream",
     "text": [
      "13 7 30 3\n",
      "3\n",
      "13\n",
      "7\n",
      "30\n"
     ]
    }
   ],
   "source": [
    "def func(a,b):\n",
    "    return a+b, a-b, a*b, a//b\n",
    "\n",
    "result_1, result_2, result_3, result_4 = func(10,3)\n",
    "\n",
    "print(result_1, result_2, result_3, result_4)\n",
    "print(result_4)\n",
    "print(result_1)\n",
    "print(result_2)\n",
    "print(result_3)"
   ]
  },
  {
   "cell_type": "code",
   "execution_count": null,
   "metadata": {},
   "outputs": [],
   "source": []
  }
 ],
 "metadata": {
  "kernelspec": {
   "display_name": "Python 3",
   "language": "python",
   "name": "python3"
  },
  "language_info": {
   "codemirror_mode": {
    "name": "ipython",
    "version": 3
   },
   "file_extension": ".py",
   "mimetype": "text/x-python",
   "name": "python",
   "nbconvert_exporter": "python",
   "pygments_lexer": "ipython3",
   "version": "3.13.1"
  }
 },
 "nbformat": 4,
 "nbformat_minor": 2
}
